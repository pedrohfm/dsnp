{
 "cells": [
  {
   "cell_type": "markdown",
   "metadata": {},
   "source": [
    "# Interactive plots"
   ]
  },
  {
   "cell_type": "markdown",
   "metadata": {},
   "source": [
    "Interactive plots are dynamic visualizations that allow users to engage with the data by zooming, panning, hovering over data points for more details, filtering, and more. These features make data exploration more intuitive and insightful. Below are some key points about interactive plots, their uses, potential pitfalls, and how to create them using popular Python libraries.\n",
    "\n",
    "### Why and When to Use Interactive Plots:\n",
    "\n",
    "1. **Enhanced Data Exploration:**\n",
    "   - Users can interact with the data, making it easier to discover trends, outliers, and patterns that might not be immediately visible in static plots.\n",
    "\n",
    "2. **User Engagement:**\n",
    "   - Interactive plots are more engaging and can provide a better user experience, especially for presentations or web applications.\n",
    "\n",
    "3. **Complex Data Representation:**\n",
    "   - When dealing with large or complex datasets, interactive plots can help manage the information overload by allowing users to focus on specific parts of the data.\n",
    "\n",
    "4. **Detailed Analysis:**\n",
    "   - Users can drill down into the data to get detailed views, which is useful for data analysis and decision-making processes.\n",
    "\n",
    "### Potential Pitfalls and Mitigation:\n",
    "\n",
    "1. **Performance Issues:**\n",
    "   - **Pitfall:** Interactive plots with large datasets can be slow and unresponsive.\n",
    "   - **Mitigation:** Use data aggregation or sampling techniques to reduce the amount of data being visualized at one time. Optimize the code and use efficient libraries.\n",
    "\n",
    "2. **Overcomplication:**\n",
    "   - **Pitfall:** Adding too many interactive features can make the plot cluttered and confusing.\n",
    "   - **Mitigation:** Keep the interactions simple and intuitive. Provide clear instructions or tooltips to guide users.\n",
    "\n",
    "3. **Browser Compatibility:**\n",
    "   - **Pitfall:** Some interactive features might not work consistently across different browsers.\n",
    "   - **Mitigation:** Test the interactive plots on multiple browsers and use libraries that support cross-browser functionality.\n",
    "\n",
    "4. **Accessibility:**\n",
    "   - **Pitfall:** Interactive plots might not be accessible to users with disabilities.\n",
    "   - **Mitigation:** Ensure that the visualizations are accessible by following best practices, such as providing keyboard navigation and screen reader support.\n",
    "\n",
    "### Best Practices:\n",
    "\n",
    "1. **Simplicity:**\n",
    "   - Keep the interactive elements straightforward to ensure usability.\n",
    "\n",
    "2. **Responsiveness:**\n",
    "   - Ensure that the interactive plot is responsive and performs well on different devices and screen sizes.\n",
    "\n",
    "3. **Guidance:**\n",
    "   - Provide tooltips, legends, and instructions to help users understand how to interact with the plot.\n",
    "\n",
    "4. **Accessibility:**\n",
    "   - Follow accessibility guidelines to make the plots usable for all users, including those with disabilities.\n",
    "\n",
    "Interactive plots can significantly enhance the data analysis process by making it easier to explore and understand complex datasets. Using libraries like Plotly and Bokeh, you can create powerful interactive visualizations tailored to your specific needs."
   ]
  },
  {
   "cell_type": "code",
   "execution_count": 113,
   "metadata": {},
   "outputs": [
    {
     "data": {
      "image/png": "[encoded data removed]",
      "text/plain": [
       "<Figure size 900x900 with 1 Axes>"
      ]
     },
     "metadata": {},
     "output_type": "display_data"
    }
   ],
   "source": [
    "import numpy as np\n",
    "import pandas as pd\n",
    "import matplotlib.pyplot as plt\n",
    "import ipywidgets as widgets\n",
    "from ipywidgets import interact,fixed,interact_manual\n",
    "\n",
    "fig,(ax1)= plt.subplots(figsize=(10,10),dpi=90)\n",
    "\n",
    "fig.set(tight_layout=True)\n",
    "\n",
    "# creating a linear func\n",
    "def f(x):\n",
    "    ax1.plot(np.arange(0,10),x * np.arange(0,10))\n",
    "    ax1.set_ylim(-100,100)\n",
    "\n",
    "f(2)\n"
   ]
  },
  {
   "cell_type": "code",
   "execution_count": 114,
   "metadata": {},
   "outputs": [
    {
     "data": {
      "application/vnd.jupyter.widget-view+json": {
       "model_id": "14247e4adadb4083b85e56543cf3c7b1",
       "version_major": 2,
       "version_minor": 0
      },
      "text/plain": [
       "interactive(children=(IntSlider(value=2, description='x', max=10, min=-5), IntSlider(value=2, description='z',…"
      ]
     },
     "metadata": {},
     "output_type": "display_data"
    }
   ],
   "source": [
    "# define the function again\n",
    "def f(x,z):\n",
    "    plt.subplots(figsize=(10,10),dpi=90)\n",
    "    plt.clf() #clears current figure\n",
    "    plt.plot(np.arange(z,10), x*np.arange(z,10))\n",
    "    plt.ylim(-100,100)\n",
    "    plt.title(\"Interactive plot - Linear function\")\n",
    "\n",
    "# widget for selecting the value of x and then calling the function again to draw the plot using the new value\n",
    "interact(f,x=(-5,10,1),z=(-5,10,1));"
   ]
  },
  {
   "cell_type": "code",
   "execution_count": 115,
   "metadata": {},
   "outputs": [
    {
     "data": {
      "application/vnd.plotly.v1+json": {
       "config": {
        "plotlyServerURL": "https://plot.ly"
       },
       "data": [
        {
         "customdata": [
          [
           0.2
          ],
          [
           0.2
          ],
          [
           0.2
          ],
          [
           0.2
          ],
          [
           0.2
          ],
          [
           0.4
          ],
          [
           0.3
          ],
          [
           0.2
          ],
          [
           0.2
          ],
          [
           0.1
          ],
          [
           0.2
          ],
          [
           0.2
          ],
          [
           0.1
          ],
          [
           0.1
          ],
          [
           0.2
          ],
          [
           0.4
          ],
          [
           0.4
          ],
          [
           0.3
          ],
          [
           0.3
          ],
          [
           0.3
          ],
          [
           0.2
          ],
          [
           0.4
          ],
          [
           0.2
          ],
          [
           0.5
          ],
          [
           0.2
          ],
          [
           0.2
          ],
          [
           0.4
          ],
          [
           0.2
          ],
          [
           0.2
          ],
          [
           0.2
          ],
          [
           0.2
          ],
          [
           0.4
          ],
          [
           0.1
          ],
          [
           0.2
          ],
          [
           0.1
          ],
          [
           0.2
          ],
          [
           0.2
          ],
          [
           0.1
          ],
          [
           0.2
          ],
          [
           0.2
          ],
          [
           0.3
          ],
          [
           0.3
          ],
          [
           0.2
          ],
          [
           0.6
          ],
          [
           0.4
          ],
          [
           0.3
          ],
          [
           0.2
          ],
          [
           0.2
          ],
          [
           0.2
          ],
          [
           0.2
          ]
         ],
         "hovertemplate": "species=setosa<br>sepal_width=%{x}<br>sepal_length=%{y}<br>petal_length=%{marker.size}<br>petal_width=%{customdata[0]}<extra></extra>",
         "legendgroup": "setosa",
         "marker": {
          "color": "#636efa",
          "size": [
           1.4,
           1.4,
           1.3,
           1.5,
           1.4,
           1.7,
           1.4,
           1.5,
           1.4,
           1.5,
           1.5,
           1.6,
           1.4,
           1.1,
           1.2,
           1.5,
           1.3,
           1.4,
           1.7,
           1.5,
           1.7,
           1.5,
           1,
           1.7,
           1.9,
           1.6,
           1.6,
           1.5,
           1.4,
           1.6,
           1.6,
           1.5,
           1.5,
           1.4,
           1.5,
           1.2,
           1.3,
           1.5,
           1.3,
           1.5,
           1.3,
           1.3,
           1.3,
           1.6,
           1.9,
           1.4,
           1.6,
           1.4,
           1.5,
           1.4
          ],
          "sizemode": "area",
          "sizeref": 0.01725,
          "symbol": "circle"
         },
         "mode": "markers",
         "name": "setosa",
         "orientation": "v",
         "showlegend": true,
         "type": "scatter",
         "x": [
          3.5,
          3,
          3.2,
          3.1,
          3.6,
          3.9,
          3.4,
          3.4,
          2.9,
          3.1,
          3.7,
          3.4,
          3,
          3,
          4,
          4.4,
          3.9,
          3.5,
          3.8,
          3.8,
          3.4,
          3.7,
          3.6,
          3.3,
          3.4,
          3,
          3.4,
          3.5,
          3.4,
          3.2,
          3.1,
          3.4,
          4.1,
          4.2,
          3.1,
          3.2,
          3.5,
          3.1,
          3,
          3.4,
          3.5,
          2.3,
          3.2,
          3.5,
          3.8,
          3,
          3.8,
          3.2,
          3.7,
          3.3
         ],
         "xaxis": "x",
         "y": [
          5.1,
          4.9,
          4.7,
          4.6,
          5,
          5.4,
          4.6,
          5,
          4.4,
          4.9,
          5.4,
          4.8,
          4.8,
          4.3,
          5.8,
          5.7,
          5.4,
          5.1,
          5.7,
          5.1,
          5.4,
          5.1,
          4.6,
          5.1,
          4.8,
          5,
          5,
          5.2,
          5.2,
          4.7,
          4.8,
          5.4,
          5.2,
          5.5,
          4.9,
          5,
          5.5,
          4.9,
          4.4,
          5.1,
          5,
          4.5,
          4.4,
          5,
          5.1,
          4.8,
          5.1,
          4.6,
          5.3,
          5
         ],
         "yaxis": "y"
        },
        {
         "customdata": [
          [
           1.4
          ],
          [
           1.5
          ],
          [
           1.5
          ],
          [
           1.3
          ],
          [
           1.5
          ],
          [
           1.3
          ],
          [
           1.6
          ],
          [
           1
          ],
          [
           1.3
          ],
          [
           1.4
          ],
          [
           1
          ],
          [
           1.5
          ],
          [
           1
          ],
          [
           1.4
          ],
          [
           1.3
          ],
          [
           1.4
          ],
          [
           1.5
          ],
          [
           1
          ],
          [
           1.5
          ],
          [
           1.1
          ],
          [
           1.8
          ],
          [
           1.3
          ],
          [
           1.5
          ],
          [
           1.2
          ],
          [
           1.3
          ],
          [
           1.4
          ],
          [
           1.4
          ],
          [
           1.7
          ],
          [
           1.5
          ],
          [
           1
          ],
          [
           1.1
          ],
          [
           1
          ],
          [
           1.2
          ],
          [
           1.6
          ],
          [
           1.5
          ],
          [
           1.6
          ],
          [
           1.5
          ],
          [
           1.3
          ],
          [
           1.3
          ],
          [
           1.3
          ],
          [
           1.2
          ],
          [
           1.4
          ],
          [
           1.2
          ],
          [
           1
          ],
          [
           1.3
          ],
          [
           1.2
          ],
          [
           1.3
          ],
          [
           1.3
          ],
          [
           1.1
          ],
          [
           1.3
          ]
         ],
         "hovertemplate": "species=versicolor<br>sepal_width=%{x}<br>sepal_length=%{y}<br>petal_length=%{marker.size}<br>petal_width=%{customdata[0]}<extra></extra>",
         "legendgroup": "versicolor",
         "marker": {
          "color": "#EF553B",
          "size": [
           4.7,
           4.5,
           4.9,
           4,
           4.6,
           4.5,
           4.7,
           3.3,
           4.6,
           3.9,
           3.5,
           4.2,
           4,
           4.7,
           3.6,
           4.4,
           4.5,
           4.1,
           4.5,
           3.9,
           4.8,
           4,
           4.9,
           4.7,
           4.3,
           4.4,
           4.8,
           5,
           4.5,
           3.5,
           3.8,
           3.7,
           3.9,
           5.1,
           4.5,
           4.5,
           4.7,
           4.4,
           4.1,
           4,
           4.4,
           4.6,
           4,
           3.3,
           4.2,
           4.2,
           4.2,
           4.3,
           3,
           4.1
          ],
          "sizemode": "area",
          "sizeref": 0.01725,
          "symbol": "circle"
         },
         "mode": "markers",
         "name": "versicolor",
         "orientation": "v",
         "showlegend": true,
         "type": "scatter",
         "x": [
          3.2,
          3.2,
          3.1,
          2.3,
          2.8,
          2.8,
          3.3,
          2.4,
          2.9,
          2.7,
          2,
          3,
          2.2,
          2.9,
          2.9,
          3.1,
          3,
          2.7,
          2.2,
          2.5,
          3.2,
          2.8,
          2.5,
          2.8,
          2.9,
          3,
          2.8,
          3,
          2.9,
          2.6,
          2.4,
          2.4,
          2.7,
          2.7,
          3,
          3.4,
          3.1,
          2.3,
          3,
          2.5,
          2.6,
          3,
          2.6,
          2.3,
          2.7,
          3,
          2.9,
          2.9,
          2.5,
          2.8
         ],
         "xaxis": "x",
         "y": [
          7,
          6.4,
          6.9,
          5.5,
          6.5,
          5.7,
          6.3,
          4.9,
          6.6,
          5.2,
          5,
          5.9,
          6,
          6.1,
          5.6,
          6.7,
          5.6,
          5.8,
          6.2,
          5.6,
          5.9,
          6.1,
          6.3,
          6.1,
          6.4,
          6.6,
          6.8,
          6.7,
          6,
          5.7,
          5.5,
          5.5,
          5.8,
          6,
          5.4,
          6,
          6.7,
          6.3,
          5.6,
          5.5,
          5.5,
          6.1,
          5.8,
          5,
          5.6,
          5.7,
          5.7,
          6.2,
          5.1,
          5.7
         ],
         "yaxis": "y"
        },
        {
         "customdata": [
          [
           2.5
          ],
          [
           1.9
          ],
          [
           2.1
          ],
          [
           1.8
          ],
          [
           2.2
          ],
          [
           2.1
          ],
          [
           1.7
          ],
          [
           1.8
          ],
          [
           1.8
          ],
          [
           2.5
          ],
          [
           2
          ],
          [
           1.9
          ],
          [
           2.1
          ],
          [
           2
          ],
          [
           2.4
          ],
          [
           2.3
          ],
          [
           1.8
          ],
          [
           2.2
          ],
          [
           2.3
          ],
          [
           1.5
          ],
          [
           2.3
          ],
          [
           2
          ],
          [
           2
          ],
          [
           1.8
          ],
          [
           2.1
          ],
          [
           1.8
          ],
          [
           1.8
          ],
          [
           1.8
          ],
          [
           2.1
          ],
          [
           1.6
          ],
          [
           1.9
          ],
          [
           2
          ],
          [
           2.2
          ],
          [
           1.5
          ],
          [
           1.4
          ],
          [
           2.3
          ],
          [
           2.4
          ],
          [
           1.8
          ],
          [
           1.8
          ],
          [
           2.1
          ],
          [
           2.4
          ],
          [
           2.3
          ],
          [
           1.9
          ],
          [
           2.3
          ],
          [
           2.5
          ],
          [
           2.3
          ],
          [
           1.9
          ],
          [
           2
          ],
          [
           2.3
          ],
          [
           1.8
          ]
         ],
         "hovertemplate": "species=virginica<br>sepal_width=%{x}<br>sepal_length=%{y}<br>petal_length=%{marker.size}<br>petal_width=%{customdata[0]}<extra></extra>",
         "legendgroup": "virginica",
         "marker": {
          "color": "#00cc96",
          "size": [
           6,
           5.1,
           5.9,
           5.6,
           5.8,
           6.6,
           4.5,
           6.3,
           5.8,
           6.1,
           5.1,
           5.3,
           5.5,
           5,
           5.1,
           5.3,
           5.5,
           6.7,
           6.9,
           5,
           5.7,
           4.9,
           6.7,
           4.9,
           5.7,
           6,
           4.8,
           4.9,
           5.6,
           5.8,
           6.1,
           6.4,
           5.6,
           5.1,
           5.6,
           6.1,
           5.6,
           5.5,
           4.8,
           5.4,
           5.6,
           5.1,
           5.1,
           5.9,
           5.7,
           5.2,
           5,
           5.2,
           5.4,
           5.1
          ],
          "sizemode": "area",
          "sizeref": 0.01725,
          "symbol": "circle"
         },
         "mode": "markers",
         "name": "virginica",
         "orientation": "v",
         "showlegend": true,
         "type": "scatter",
         "x": [
          3.3,
          2.7,
          3,
          2.9,
          3,
          3,
          2.5,
          2.9,
          2.5,
          3.6,
          3.2,
          2.7,
          3,
          2.5,
          2.8,
          3.2,
          3,
          3.8,
          2.6,
          2.2,
          3.2,
          2.8,
          2.8,
          2.7,
          3.3,
          3.2,
          2.8,
          3,
          2.8,
          3,
          2.8,
          3.8,
          2.8,
          2.8,
          2.6,
          3,
          3.4,
          3.1,
          3,
          3.1,
          3.1,
          3.1,
          2.7,
          3.2,
          3.3,
          3,
          2.5,
          3,
          3.4,
          3
         ],
         "xaxis": "x",
         "y": [
          6.3,
          5.8,
          7.1,
          6.3,
          6.5,
          7.6,
          4.9,
          7.3,
          6.7,
          7.2,
          6.5,
          6.4,
          6.8,
          5.7,
          5.8,
          6.4,
          6.5,
          7.7,
          7.7,
          6,
          6.9,
          5.6,
          7.7,
          6.3,
          6.7,
          7.2,
          6.2,
          6.1,
          6.4,
          7.2,
          7.4,
          7.9,
          6.4,
          6.3,
          6.1,
          7.7,
          6.3,
          6.4,
          6,
          6.9,
          6.7,
          6.9,
          5.8,
          6.8,
          6.7,
          6.7,
          6.3,
          6.5,
          6.2,
          5.9
         ],
         "yaxis": "y"
        }
       ],
       "layout": {
        "legend": {
         "itemsizing": "constant",
         "title": {
          "text": "species"
         },
         "tracegroupgap": 0
        },
        "margin": {
         "t": 60
        },
        "template": {
         "data": {
          "bar": [
           {
            "error_x": {
             "color": "#2a3f5f"
            },
            "error_y": {
             "color": "#2a3f5f"
            },
            "marker": {
             "line": {
              "color": "#E5ECF6",
              "width": 0.5
             },
             "pattern": {
              "fillmode": "overlay",
              "size": 10,
              "solidity": 0.2
             }
            },
            "type": "bar"
           }
          ],
          "barpolar": [
           {
            "marker": {
             "line": {
              "color": "#E5ECF6",
              "width": 0.5
             },
             "pattern": {
              "fillmode": "overlay",
              "size": 10,
              "solidity": 0.2
             }
            },
            "type": "barpolar"
           }
          ],
          "carpet": [
           {
            "aaxis": {
             "endlinecolor": "#2a3f5f",
             "gridcolor": "white",
             "linecolor": "white",
             "minorgridcolor": "white",
             "startlinecolor": "#2a3f5f"
            },
            "baxis": {
             "endlinecolor": "#2a3f5f",
             "gridcolor": "white",
             "linecolor": "white",
             "minorgridcolor": "white",
             "startlinecolor": "#2a3f5f"
            },
            "type": "carpet"
           }
          ],
          "choropleth": [
           {
            "colorbar": {
             "outlinewidth": 0,
             "ticks": ""
            },
            "type": "choropleth"
           }
          ],
          "contour": [
           {
            "colorbar": {
             "outlinewidth": 0,
             "ticks": ""
            },
            "colorscale": [
             [
              0,
              "#0d0887"
             ],
             [
              0.1111111111111111,
              "#46039f"
             ],
             [
              0.2222222222222222,
              "#7201a8"
             ],
             [
              0.3333333333333333,
              "#9c179e"
             ],
             [
              0.4444444444444444,
              "#bd3786"
             ],
             [
              0.5555555555555556,
              "#d8576b"
             ],
             [
              0.6666666666666666,
              "#ed7953"
             ],
             [
              0.7777777777777778,
              "#fb9f3a"
             ],
             [
              0.8888888888888888,
              "#fdca26"
             ],
             [
              1,
              "#f0f921"
             ]
            ],
            "type": "contour"
           }
          ],
          "contourcarpet": [
           {
            "colorbar": {
             "outlinewidth": 0,
             "ticks": ""
            },
            "type": "contourcarpet"
           }
          ],
          "heatmap": [
           {
            "colorbar": {
             "outlinewidth": 0,
             "ticks": ""
            },
            "colorscale": [
             [
              0,
              "#0d0887"
             ],
             [
              0.1111111111111111,
              "#46039f"
             ],
             [
              0.2222222222222222,
              "#7201a8"
             ],
             [
              0.3333333333333333,
              "#9c179e"
             ],
             [
              0.4444444444444444,
              "#bd3786"
             ],
             [
              0.5555555555555556,
              "#d8576b"
             ],
             [
              0.6666666666666666,
              "#ed7953"
             ],
             [
              0.7777777777777778,
              "#fb9f3a"
             ],
             [
              0.8888888888888888,
              "#fdca26"
             ],
             [
              1,
              "#f0f921"
             ]
            ],
            "type": "heatmap"
           }
          ],
          "heatmapgl": [
           {
            "colorbar": {
             "outlinewidth": 0,
             "ticks": ""
            },
            "colorscale": [
             [
              0,
              "#0d0887"
             ],
             [
              0.1111111111111111,
              "#46039f"
             ],
             [
              0.2222222222222222,
              "#7201a8"
             ],
             [
              0.3333333333333333,
              "#9c179e"
             ],
             [
              0.4444444444444444,
              "#bd3786"
             ],
             [
              0.5555555555555556,
              "#d8576b"
             ],
             [
              0.6666666666666666,
              "#ed7953"
             ],
             [
              0.7777777777777778,
              "#fb9f3a"
             ],
             [
              0.8888888888888888,
              "#fdca26"
             ],
             [
              1,
              "#f0f921"
             ]
            ],
            "type": "heatmapgl"
           }
          ],
          "histogram": [
           {
            "marker": {
             "pattern": {
              "fillmode": "overlay",
              "size": 10,
              "solidity": 0.2
             }
            },
            "type": "histogram"
           }
          ],
          "histogram2d": [
           {
            "colorbar": {
             "outlinewidth": 0,
             "ticks": ""
            },
            "colorscale": [
             [
              0,
              "#0d0887"
             ],
             [
              0.1111111111111111,
              "#46039f"
             ],
             [
              0.2222222222222222,
              "#7201a8"
             ],
             [
              0.3333333333333333,
              "#9c179e"
             ],
             [
              0.4444444444444444,
              "#bd3786"
             ],
             [
              0.5555555555555556,
              "#d8576b"
             ],
             [
              0.6666666666666666,
              "#ed7953"
             ],
             [
              0.7777777777777778,
              "#fb9f3a"
             ],
             [
              0.8888888888888888,
              "#fdca26"
             ],
             [
              1,
              "#f0f921"
             ]
            ],
            "type": "histogram2d"
           }
          ],
          "histogram2dcontour": [
           {
            "colorbar": {
             "outlinewidth": 0,
             "ticks": ""
            },
            "colorscale": [
             [
              0,
              "#0d0887"
             ],
             [
              0.1111111111111111,
              "#46039f"
             ],
             [
              0.2222222222222222,
              "#7201a8"
             ],
             [
              0.3333333333333333,
              "#9c179e"
             ],
             [
              0.4444444444444444,
              "#bd3786"
             ],
             [
              0.5555555555555556,
              "#d8576b"
             ],
             [
              0.6666666666666666,
              "#ed7953"
             ],
             [
              0.7777777777777778,
              "#fb9f3a"
             ],
             [
              0.8888888888888888,
              "#fdca26"
             ],
             [
              1,
              "#f0f921"
             ]
            ],
            "type": "histogram2dcontour"
           }
          ],
          "mesh3d": [
           {
            "colorbar": {
             "outlinewidth": 0,
             "ticks": ""
            },
            "type": "mesh3d"
           }
          ],
          "parcoords": [
           {
            "line": {
             "colorbar": {
              "outlinewidth": 0,
              "ticks": ""
             }
            },
            "type": "parcoords"
           }
          ],
          "pie": [
           {
            "automargin": true,
            "type": "pie"
           }
          ],
          "scatter": [
           {
            "fillpattern": {
             "fillmode": "overlay",
             "size": 10,
             "solidity": 0.2
            },
            "type": "scatter"
           }
          ],
          "scatter3d": [
           {
            "line": {
             "colorbar": {
              "outlinewidth": 0,
              "ticks": ""
             }
            },
            "marker": {
             "colorbar": {
              "outlinewidth": 0,
              "ticks": ""
             }
            },
            "type": "scatter3d"
           }
          ],
          "scattercarpet": [
           {
            "marker": {
             "colorbar": {
              "outlinewidth": 0,
              "ticks": ""
             }
            },
            "type": "scattercarpet"
           }
          ],
          "scattergeo": [
           {
            "marker": {
             "colorbar": {
              "outlinewidth": 0,
              "ticks": ""
             }
            },
            "type": "scattergeo"
           }
          ],
          "scattergl": [
           {
            "marker": {
             "colorbar": {
              "outlinewidth": 0,
              "ticks": ""
             }
            },
            "type": "scattergl"
           }
          ],
          "scattermapbox": [
           {
            "marker": {
             "colorbar": {
              "outlinewidth": 0,
              "ticks": ""
             }
            },
            "type": "scattermapbox"
           }
          ],
          "scatterpolar": [
           {
            "marker": {
             "colorbar": {
              "outlinewidth": 0,
              "ticks": ""
             }
            },
            "type": "scatterpolar"
           }
          ],
          "scatterpolargl": [
           {
            "marker": {
             "colorbar": {
              "outlinewidth": 0,
              "ticks": ""
             }
            },
            "type": "scatterpolargl"
           }
          ],
          "scatterternary": [
           {
            "marker": {
             "colorbar": {
              "outlinewidth": 0,
              "ticks": ""
             }
            },
            "type": "scatterternary"
           }
          ],
          "surface": [
           {
            "colorbar": {
             "outlinewidth": 0,
             "ticks": ""
            },
            "colorscale": [
             [
              0,
              "#0d0887"
             ],
             [
              0.1111111111111111,
              "#46039f"
             ],
             [
              0.2222222222222222,
              "#7201a8"
             ],
             [
              0.3333333333333333,
              "#9c179e"
             ],
             [
              0.4444444444444444,
              "#bd3786"
             ],
             [
              0.5555555555555556,
              "#d8576b"
             ],
             [
              0.6666666666666666,
              "#ed7953"
             ],
             [
              0.7777777777777778,
              "#fb9f3a"
             ],
             [
              0.8888888888888888,
              "#fdca26"
             ],
             [
              1,
              "#f0f921"
             ]
            ],
            "type": "surface"
           }
          ],
          "table": [
           {
            "cells": {
             "fill": {
              "color": "#EBF0F8"
             },
             "line": {
              "color": "white"
             }
            },
            "header": {
             "fill": {
              "color": "#C8D4E3"
             },
             "line": {
              "color": "white"
             }
            },
            "type": "table"
           }
          ]
         },
         "layout": {
          "annotationdefaults": {
           "arrowcolor": "#2a3f5f",
           "arrowhead": 0,
           "arrowwidth": 1
          },
          "autotypenumbers": "strict",
          "coloraxis": {
           "colorbar": {
            "outlinewidth": 0,
            "ticks": ""
           }
          },
          "colorscale": {
           "diverging": [
            [
             0,
             "#8e0152"
            ],
            [
             0.1,
             "#c51b7d"
            ],
            [
             0.2,
             "#de77ae"
            ],
            [
             0.3,
             "#f1b6da"
            ],
            [
             0.4,
             "#fde0ef"
            ],
            [
             0.5,
             "#f7f7f7"
            ],
            [
             0.6,
             "#e6f5d0"
            ],
            [
             0.7,
             "#b8e186"
            ],
            [
             0.8,
             "#7fbc41"
            ],
            [
             0.9,
             "#4d9221"
            ],
            [
             1,
             "#276419"
            ]
           ],
           "sequential": [
            [
             0,
             "#0d0887"
            ],
            [
             0.1111111111111111,
             "#46039f"
            ],
            [
             0.2222222222222222,
             "#7201a8"
            ],
            [
             0.3333333333333333,
             "#9c179e"
            ],
            [
             0.4444444444444444,
             "#bd3786"
            ],
            [
             0.5555555555555556,
             "#d8576b"
            ],
            [
             0.6666666666666666,
             "#ed7953"
            ],
            [
             0.7777777777777778,
             "#fb9f3a"
            ],
            [
             0.8888888888888888,
             "#fdca26"
            ],
            [
             1,
             "#f0f921"
            ]
           ],
           "sequentialminus": [
            [
             0,
             "#0d0887"
            ],
            [
             0.1111111111111111,
             "#46039f"
            ],
            [
             0.2222222222222222,
             "#7201a8"
            ],
            [
             0.3333333333333333,
             "#9c179e"
            ],
            [
             0.4444444444444444,
             "#bd3786"
            ],
            [
             0.5555555555555556,
             "#d8576b"
            ],
            [
             0.6666666666666666,
             "#ed7953"
            ],
            [
             0.7777777777777778,
             "#fb9f3a"
            ],
            [
             0.8888888888888888,
             "#fdca26"
            ],
            [
             1,
             "#f0f921"
            ]
           ]
          },
          "colorway": [
           "#636efa",
           "#EF553B",
           "#00cc96",
           "#ab63fa",
           "#FFA15A",
           "#19d3f3",
           "#FF6692",
           "#B6E880",
           "#FF97FF",
           "#FECB52"
          ],
          "font": {
           "color": "#2a3f5f"
          },
          "geo": {
           "bgcolor": "white",
           "lakecolor": "white",
           "landcolor": "#E5ECF6",
           "showlakes": true,
           "showland": true,
           "subunitcolor": "white"
          },
          "hoverlabel": {
           "align": "left"
          },
          "hovermode": "closest",
          "mapbox": {
           "style": "light"
          },
          "paper_bgcolor": "white",
          "plot_bgcolor": "#E5ECF6",
          "polar": {
           "angularaxis": {
            "gridcolor": "white",
            "linecolor": "white",
            "ticks": ""
           },
           "bgcolor": "#E5ECF6",
           "radialaxis": {
            "gridcolor": "white",
            "linecolor": "white",
            "ticks": ""
           }
          },
          "scene": {
           "xaxis": {
            "backgroundcolor": "#E5ECF6",
            "gridcolor": "white",
            "gridwidth": 2,
            "linecolor": "white",
            "showbackground": true,
            "ticks": "",
            "zerolinecolor": "white"
           },
           "yaxis": {
            "backgroundcolor": "#E5ECF6",
            "gridcolor": "white",
            "gridwidth": 2,
            "linecolor": "white",
            "showbackground": true,
            "ticks": "",
            "zerolinecolor": "white"
           },
           "zaxis": {
            "backgroundcolor": "#E5ECF6",
            "gridcolor": "white",
            "gridwidth": 2,
            "linecolor": "white",
            "showbackground": true,
            "ticks": "",
            "zerolinecolor": "white"
           }
          },
          "shapedefaults": {
           "line": {
            "color": "#2a3f5f"
           }
          },
          "ternary": {
           "aaxis": {
            "gridcolor": "white",
            "linecolor": "white",
            "ticks": ""
           },
           "baxis": {
            "gridcolor": "white",
            "linecolor": "white",
            "ticks": ""
           },
           "bgcolor": "#E5ECF6",
           "caxis": {
            "gridcolor": "white",
            "linecolor": "white",
            "ticks": ""
           }
          },
          "title": {
           "x": 0.05
          },
          "xaxis": {
           "automargin": true,
           "gridcolor": "white",
           "linecolor": "white",
           "ticks": "",
           "title": {
            "standoff": 15
           },
           "zerolinecolor": "white",
           "zerolinewidth": 2
          },
          "yaxis": {
           "automargin": true,
           "gridcolor": "white",
           "linecolor": "white",
           "ticks": "",
           "title": {
            "standoff": 15
           },
           "zerolinecolor": "white",
           "zerolinewidth": 2
          }
         }
        },
        "xaxis": {
         "anchor": "y",
         "domain": [
          0,
          1
         ],
         "title": {
          "text": "sepal_width"
         }
        },
        "yaxis": {
         "anchor": "x",
         "domain": [
          0,
          1
         ],
         "title": {
          "text": "sepal_length"
         }
        }
       }
      }
     },
     "metadata": {},
     "output_type": "display_data"
    }
   ],
   "source": [
    "import plotly.express as px\n",
    "\n",
    "# Sample data\n",
    "df = px.data.iris()\n",
    "\n",
    "# Create an interactive scatter plot\n",
    "fig = px.scatter(\n",
    "    df, x='sepal_width', y='sepal_length',\n",
    "    color='species', size='petal_length',\n",
    "    hover_data=['petal_width']\n",
    ")\n",
    "\n",
    "# Show the plot\n",
    "fig.show()\n"
   ]
  },
  {
   "cell_type": "code",
   "execution_count": 116,
   "metadata": {},
   "outputs": [],
   "source": [
    "from bokeh.plotting import figure, output_file, show\n",
    "from bokeh.models import HoverTool\n",
    "from bokeh.sampledata.iris import flowers\n",
    "# Output to a static HTML file\n",
    "output_file(\"interactive_plot.html\")\n",
    "# Create a new plot with a title and axis labels\n",
    "plot = figure(title=\"Iris Morphology\", x_axis_label='Petal Length', y_axis_label='Petal Width')\n",
    "# Add a hover tool\n",
    "hover = HoverTool()\n",
    "hover.tooltips = [\n",
    "    (\"Species\", \"@species\"),\n",
    "    (\"Sepal Width\", \"@sepal_width\"),\n",
    "    (\"Sepal Length\", \"@sepal_length\")\n",
    "]\n",
    "plot.add_tools(hover)\n",
    "# Add circle renderer\n",
    "plot.scatter(flowers[\"petal_length\"], flowers[\"petal_width\"], size=10, color=\"red\", alpha=0.5)\n",
    "# Show the plot\n",
    "show(plot)"
   ]
  }
 ],
 "metadata": {
  "kernelspec": {
   "display_name": "base",
   "language": "python",
   "name": "python3"
  },
  "language_info": {
   "codemirror_mode": {
    "name": "ipython",
    "version": 3
   },
   "file_extension": ".py",
   "mimetype": "text/x-python",
   "name": "python",
   "nbconvert_exporter": "python",
   "pygments_lexer": "ipython3",
   "version": "3.11.8"
  }
 },
 "nbformat": 4,
 "nbformat_minor": 2
}
