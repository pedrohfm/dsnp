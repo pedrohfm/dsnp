{
 "cells": [
  {
   "cell_type": "markdown",
   "metadata": {},
   "source": [
    "# Data Cleaning - Part 01\n",
    "\n",
    "## Cleaning missing values\n",
    "\n",
    "Identifying and cleaning NaN values. Later on we can identify outliers using the *IQR + (1.25 * IQR)* formula. "
   ]
  },
  {
   "cell_type": "code",
   "execution_count": 149,
   "metadata": {},
   "outputs": [
    {
     "data": {
      "text/html": [
       "<div>\n",
       "<style scoped>\n",
       "    .dataframe tbody tr th:only-of-type {\n",
       "        vertical-align: middle;\n",
       "    }\n",
       "\n",
       "    .dataframe tbody tr th {\n",
       "        vertical-align: top;\n",
       "    }\n",
       "\n",
       "    .dataframe thead th {\n",
       "        text-align: right;\n",
       "    }\n",
       "</style>\n",
       "<table border=\"1\" class=\"dataframe\">\n",
       "  <thead>\n",
       "    <tr style=\"text-align: right;\">\n",
       "      <th></th>\n",
       "      <th>user_gender</th>\n",
       "      <th>user_birthdate</th>\n",
       "      <th>user_residence</th>\n",
       "      <th>ride_date</th>\n",
       "      <th>time_start</th>\n",
       "      <th>time_end</th>\n",
       "      <th>station_start</th>\n",
       "      <th>station_end</th>\n",
       "      <th>ride_duration</th>\n",
       "      <th>ride_late</th>\n",
       "    </tr>\n",
       "  </thead>\n",
       "  <tbody>\n",
       "    <tr>\n",
       "      <th>0</th>\n",
       "      <td>M</td>\n",
       "      <td>1971-06-08</td>\n",
       "      <td>NaN</td>\n",
       "      <td>2018-01-01</td>\n",
       "      <td>06:05:18</td>\n",
       "      <td>06:21:33</td>\n",
       "      <td>11 - Rodoviária 2</td>\n",
       "      <td>41 - Instituto de Artes</td>\n",
       "      <td>16.250000</td>\n",
       "      <td>0.0</td>\n",
       "    </tr>\n",
       "    <tr>\n",
       "      <th>1</th>\n",
       "      <td>M</td>\n",
       "      <td>1989-02-11</td>\n",
       "      <td>DF</td>\n",
       "      <td>2018-01-01</td>\n",
       "      <td>06:27:01</td>\n",
       "      <td>06:32:17</td>\n",
       "      <td>26 - Ministério da Saude</td>\n",
       "      <td>28 - CNMP - Conselho Nacional do Ministério Pú...</td>\n",
       "      <td>5.266667</td>\n",
       "      <td>0.0</td>\n",
       "    </tr>\n",
       "    <tr>\n",
       "      <th>2</th>\n",
       "      <td>M</td>\n",
       "      <td>1968-07-19</td>\n",
       "      <td>NaN</td>\n",
       "      <td>2018-01-01</td>\n",
       "      <td>06:29:33</td>\n",
       "      <td>06:44:57</td>\n",
       "      <td>11 - Rodoviária 2</td>\n",
       "      <td>43 - Biblioteca Central</td>\n",
       "      <td>15.400000</td>\n",
       "      <td>0.0</td>\n",
       "    </tr>\n",
       "    <tr>\n",
       "      <th>3</th>\n",
       "      <td>M</td>\n",
       "      <td>1991-12-19</td>\n",
       "      <td>NaN</td>\n",
       "      <td>2018-01-01</td>\n",
       "      <td>06:53:53</td>\n",
       "      <td>06:59:45</td>\n",
       "      <td>10 - Ministério dos Transportes</td>\n",
       "      <td>6 - Rodoviária</td>\n",
       "      <td>5.866667</td>\n",
       "      <td>0.0</td>\n",
       "    </tr>\n",
       "    <tr>\n",
       "      <th>4</th>\n",
       "      <td>M</td>\n",
       "      <td>1969-03-03</td>\n",
       "      <td>DF</td>\n",
       "      <td>2018-01-01</td>\n",
       "      <td>06:58:56</td>\n",
       "      <td>17:40:04</td>\n",
       "      <td>15 - Brasil 21</td>\n",
       "      <td>11 - Rodoviária 2</td>\n",
       "      <td>641.133333</td>\n",
       "      <td>1.0</td>\n",
       "    </tr>\n",
       "  </tbody>\n",
       "</table>\n",
       "</div>"
      ],
      "text/plain": [
       "  user_gender user_birthdate user_residence   ride_date time_start  time_end  \\\n",
       "0           M     1971-06-08            NaN  2018-01-01   06:05:18  06:21:33   \n",
       "1           M     1989-02-11             DF  2018-01-01   06:27:01  06:32:17   \n",
       "2           M     1968-07-19            NaN  2018-01-01   06:29:33  06:44:57   \n",
       "3           M     1991-12-19            NaN  2018-01-01   06:53:53  06:59:45   \n",
       "4           M     1969-03-03             DF  2018-01-01   06:58:56  17:40:04   \n",
       "\n",
       "                     station_start  \\\n",
       "0                11 - Rodoviária 2   \n",
       "1         26 - Ministério da Saude   \n",
       "2                11 - Rodoviária 2   \n",
       "3  10 - Ministério dos Transportes   \n",
       "4                   15 - Brasil 21   \n",
       "\n",
       "                                         station_end  ride_duration  ride_late  \n",
       "0                            41 - Instituto de Artes      16.250000        0.0  \n",
       "1  28 - CNMP - Conselho Nacional do Ministério Pú...       5.266667        0.0  \n",
       "2                            43 - Biblioteca Central      15.400000        0.0  \n",
       "3                                     6 - Rodoviária       5.866667        0.0  \n",
       "4                                  11 - Rodoviária 2     641.133333        1.0  "
      ]
     },
     "execution_count": 149,
     "metadata": {},
     "output_type": "execute_result"
    }
   ],
   "source": [
    "# Importing data\n",
    "\n",
    "DATA_PATH = \"./df_rides.csv\"\n",
    "\n",
    "import pandas as pd\n",
    "\n",
    "# Creating DataFrame\n",
    "df = pd.read_csv(DATA_PATH)\n",
    "df.head()"
   ]
  },
  {
   "cell_type": "code",
   "execution_count": 150,
   "metadata": {},
   "outputs": [
    {
     "data": {
      "text/plain": [
       "user_gender          396\n",
       "user_birthdate         1\n",
       "user_residence    179905\n",
       "ride_date              0\n",
       "time_start             0\n",
       "time_end           43285\n",
       "station_start          0\n",
       "station_end            0\n",
       "ride_duration      73174\n",
       "ride_late          73174\n",
       "dtype: int64"
      ]
     },
     "execution_count": 150,
     "metadata": {},
     "output_type": "execute_result"
    }
   ],
   "source": [
    "# Missing values in the whole DataFrame \n",
    "df.isnull().sum()"
   ]
  },
  {
   "cell_type": "markdown",
   "metadata": {},
   "source": [
    "## Attention\n",
    "\n",
    "Watch out for values that say NaN but are actually a string \"NaN\", or a string \" \", rather than an actual missing value.\n",
    "Make sure to understand the context. Perhaps the data was not being gathered before, but later on it started being recorded.\n"
   ]
  },
  {
   "cell_type": "code",
   "execution_count": 151,
   "metadata": {},
   "outputs": [
    {
     "data": {
      "text/html": [
       "<div>\n",
       "<style scoped>\n",
       "    .dataframe tbody tr th:only-of-type {\n",
       "        vertical-align: middle;\n",
       "    }\n",
       "\n",
       "    .dataframe tbody tr th {\n",
       "        vertical-align: top;\n",
       "    }\n",
       "\n",
       "    .dataframe thead th {\n",
       "        text-align: right;\n",
       "    }\n",
       "</style>\n",
       "<table border=\"1\" class=\"dataframe\">\n",
       "  <thead>\n",
       "    <tr style=\"text-align: right;\">\n",
       "      <th></th>\n",
       "      <th>ride_duration</th>\n",
       "      <th>ride_late</th>\n",
       "    </tr>\n",
       "  </thead>\n",
       "  <tbody>\n",
       "    <tr>\n",
       "      <th>count</th>\n",
       "      <td>214148.000000</td>\n",
       "      <td>214148.000000</td>\n",
       "    </tr>\n",
       "    <tr>\n",
       "      <th>mean</th>\n",
       "      <td>29.915932</td>\n",
       "      <td>0.098829</td>\n",
       "    </tr>\n",
       "    <tr>\n",
       "      <th>std</th>\n",
       "      <td>58.857297</td>\n",
       "      <td>0.298433</td>\n",
       "    </tr>\n",
       "    <tr>\n",
       "      <th>min</th>\n",
       "      <td>3.000000</td>\n",
       "      <td>0.000000</td>\n",
       "    </tr>\n",
       "    <tr>\n",
       "      <th>25%</th>\n",
       "      <td>8.083333</td>\n",
       "      <td>0.000000</td>\n",
       "    </tr>\n",
       "    <tr>\n",
       "      <th>50%</th>\n",
       "      <td>14.200000</td>\n",
       "      <td>0.000000</td>\n",
       "    </tr>\n",
       "    <tr>\n",
       "      <th>75%</th>\n",
       "      <td>33.766667</td>\n",
       "      <td>0.000000</td>\n",
       "    </tr>\n",
       "    <tr>\n",
       "      <th>max</th>\n",
       "      <td>999.600000</td>\n",
       "      <td>1.000000</td>\n",
       "    </tr>\n",
       "  </tbody>\n",
       "</table>\n",
       "</div>"
      ],
      "text/plain": [
       "       ride_duration      ride_late\n",
       "count  214148.000000  214148.000000\n",
       "mean       29.915932       0.098829\n",
       "std        58.857297       0.298433\n",
       "min         3.000000       0.000000\n",
       "25%         8.083333       0.000000\n",
       "50%        14.200000       0.000000\n",
       "75%        33.766667       0.000000\n",
       "max       999.600000       1.000000"
      ]
     },
     "execution_count": 151,
     "metadata": {},
     "output_type": "execute_result"
    }
   ],
   "source": [
    "df.dtypes\n",
    "# there seems to be an outlier in ride duration, with a very high max value of 999.6 minutes (more than 15 hours!)\n",
    "df.describe()"
   ]
  },
  {
   "cell_type": "code",
   "execution_count": 152,
   "metadata": {},
   "outputs": [
    {
     "data": {
      "text/plain": [
       "user_gender       0.001378\n",
       "user_birthdate    0.000003\n",
       "user_residence    0.626144\n",
       "ride_date         0.000000\n",
       "time_start        0.000000\n",
       "time_end          0.150650\n",
       "station_start     0.000000\n",
       "station_end       0.000000\n",
       "ride_duration     0.254676\n",
       "ride_late         0.254676\n",
       "dtype: float64"
      ]
     },
     "execution_count": 152,
     "metadata": {},
     "output_type": "execute_result"
    }
   ],
   "source": [
    "# Missing values in percentage values so we can understand the impact of missing data\n",
    "df.isnull().sum()/ df.shape[0] # df.shape[0] gives us the first value in the tuple, which is the total number of rows.\n"
   ]
  },
  {
   "cell_type": "markdown",
   "metadata": {},
   "source": [
    "## Significance of missing values\n",
    "\n",
    "In this dataset user_residence has 62% of missing values. This is a significant proportion that can affect analysis later on. If we remove this many rows we might be removing important data in other columns. In this case a better approach is to understand what happened and see if we can fill in the missing values. \n",
    "User gender, on the other hand, has less than 1% missing values, for example, and wouldn't greatly affect analysis. We can get rid of missing values and it wouldn't affect too many rows. "
   ]
  },
  {
   "cell_type": "code",
   "execution_count": 153,
   "metadata": {},
   "outputs": [
    {
     "name": "stdout",
     "output_type": "stream",
     "text": [
      "Before cleaning: 287322 \n",
      "After cleaning: 286926\n"
     ]
    }
   ],
   "source": [
    "df_clean = df.dropna(subset=['user_gender'])\n",
    "\n",
    "# Comparing the number of rows before and after cleaning\n",
    "\n",
    "print(f\"Before cleaning: {df.shape[0]} \\nAfter cleaning: {df_clean.shape[0]}\")"
   ]
  },
  {
   "cell_type": "code",
   "execution_count": 154,
   "metadata": {},
   "outputs": [
    {
     "data": {
      "text/plain": [
       "user_gender            0\n",
       "user_birthdate         1\n",
       "user_residence    179818\n",
       "ride_date              0\n",
       "time_start             0\n",
       "time_end           43212\n",
       "station_start          0\n",
       "station_end            0\n",
       "ride_duration      73064\n",
       "ride_late          73064\n",
       "dtype: int64"
      ]
     },
     "execution_count": 154,
     "metadata": {},
     "output_type": "execute_result"
    }
   ],
   "source": [
    "# Now the user_gender column has no missing values\n",
    "df_clean.isnull().sum()\n"
   ]
  },
  {
   "cell_type": "code",
   "execution_count": 155,
   "metadata": {},
   "outputs": [
    {
     "data": {
      "text/plain": [
       "user_gender            0\n",
       "user_birthdate         1\n",
       "user_residence    179818\n",
       "ride_date              0\n",
       "time_start             0\n",
       "time_end           43212\n",
       "station_start          0\n",
       "station_end            0\n",
       "ride_duration          0\n",
       "ride_late          73064\n",
       "dtype: int64"
      ]
     },
     "execution_count": 155,
     "metadata": {},
     "output_type": "execute_result"
    }
   ],
   "source": [
    "# Let's fill in missing values in other columns. We can fill in ride duration with the median ride duration, which is not affected by outliers.\n",
    "\n",
    "df_clean = df_clean.fillna({'ride_duration': df_clean.ride_duration.median()})\n",
    "\n",
    "# Checking missing values again \n",
    "df_clean.isnull().sum()"
   ]
  },
  {
   "cell_type": "code",
   "execution_count": 156,
   "metadata": {},
   "outputs": [
    {
     "data": {
      "text/plain": [
       "user_gender          396\n",
       "user_birthdate         1\n",
       "user_residence    179905\n",
       "ride_date              0\n",
       "time_start             0\n",
       "time_end           43285\n",
       "station_start          0\n",
       "station_end            0\n",
       "ride_duration      73174\n",
       "ride_late          73174\n",
       "dtype: int64"
      ]
     },
     "execution_count": 156,
     "metadata": {},
     "output_type": "execute_result"
    }
   ],
   "source": [
    "# We can fill in values based on the mode, i.e. the most frequent value in the column.\n",
    "df = df.copy()\n",
    "df.isnull().sum()"
   ]
  },
  {
   "cell_type": "code",
   "execution_count": 157,
   "metadata": {},
   "outputs": [
    {
     "data": {
      "text/plain": [
       "user_gender\n",
       "M    212608\n",
       "F     74318\n",
       "Name: count, dtype: int64"
      ]
     },
     "execution_count": 157,
     "metadata": {},
     "output_type": "execute_result"
    }
   ],
   "source": [
    "# M is the mode in the user_gender column \n",
    "df.user_gender.value_counts()"
   ]
  },
  {
   "cell_type": "code",
   "execution_count": 158,
   "metadata": {},
   "outputs": [
    {
     "data": {
      "text/plain": [
       "0    M\n",
       "Name: user_gender, dtype: object"
      ]
     },
     "execution_count": 158,
     "metadata": {},
     "output_type": "execute_result"
    }
   ],
   "source": [
    "# The mode function returns a series. To get the value we need to access the first value in the series, which is [0]. \n",
    "df.user_gender.mode(dropna=True)"
   ]
  },
  {
   "cell_type": "code",
   "execution_count": 159,
   "metadata": {},
   "outputs": [
    {
     "data": {
      "text/plain": [
       "user_gender            0\n",
       "user_birthdate         1\n",
       "user_residence    179905\n",
       "ride_date              0\n",
       "time_start             0\n",
       "time_end           43285\n",
       "station_start          0\n",
       "station_end            0\n",
       "ride_duration      73174\n",
       "ride_late          73174\n",
       "dtype: int64"
      ]
     },
     "execution_count": 159,
     "metadata": {},
     "output_type": "execute_result"
    }
   ],
   "source": [
    "# Filling the missing values with the mode. Using the mode() we get the first item in the series, which is the value we're looking for.\n",
    "df = df.fillna({'user_gender': df.user_gender.mode(dropna=True)[0]})\n",
    "df.isnull().sum()"
   ]
  }
 ],
 "metadata": {
  "kernelspec": {
   "display_name": "base",
   "language": "python",
   "name": "python3"
  },
  "language_info": {
   "codemirror_mode": {
    "name": "ipython",
    "version": 3
   },
   "file_extension": ".py",
   "mimetype": "text/x-python",
   "name": "python",
   "nbconvert_exporter": "python",
   "pygments_lexer": "ipython3",
   "version": "3.11.7"
  }
 },
 "nbformat": 4,
 "nbformat_minor": 2
}
