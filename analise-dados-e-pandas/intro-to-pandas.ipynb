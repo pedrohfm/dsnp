{
 "cells": [
  {
   "cell_type": "markdown",
   "metadata": {},
   "source": [
    "# Intro to pandas\n",
    "\n",
    "Pandas is a Python library, most likely one of the most popular library when it comes to Data Science."
   ]
  },
  {
   "cell_type": "code",
   "execution_count": 27,
   "metadata": {},
   "outputs": [],
   "source": [
    "# Importing libraries: import: [library name] as [how you want to reference it in the file].\n",
    "import pandas as pd\n",
    "\n",
    "# Now let's import a file to explore the Pandas library.\n",
    "df = pd.read_csv(\"./BBAS3.SA.csv\")"
   ]
  },
  {
   "cell_type": "code",
   "execution_count": 28,
   "metadata": {},
   "outputs": [
    {
     "data": {
      "text/html": [
       "<div>\n",
       "<style scoped>\n",
       "    .dataframe tbody tr th:only-of-type {\n",
       "        vertical-align: middle;\n",
       "    }\n",
       "\n",
       "    .dataframe tbody tr th {\n",
       "        vertical-align: top;\n",
       "    }\n",
       "\n",
       "    .dataframe thead th {\n",
       "        text-align: right;\n",
       "    }\n",
       "</style>\n",
       "<table border=\"1\" class=\"dataframe\">\n",
       "  <thead>\n",
       "    <tr style=\"text-align: right;\">\n",
       "      <th></th>\n",
       "      <th>Date</th>\n",
       "      <th>Open</th>\n",
       "      <th>High</th>\n",
       "      <th>Low</th>\n",
       "      <th>Close</th>\n",
       "      <th>Adj Close</th>\n",
       "      <th>Volume</th>\n",
       "    </tr>\n",
       "  </thead>\n",
       "  <tbody>\n",
       "    <tr>\n",
       "      <th>241</th>\n",
       "      <td>2019-09-16</td>\n",
       "      <td>47.040001</td>\n",
       "      <td>47.560001</td>\n",
       "      <td>46.299999</td>\n",
       "      <td>46.650002</td>\n",
       "      <td>46.650002</td>\n",
       "      <td>8175500</td>\n",
       "    </tr>\n",
       "    <tr>\n",
       "      <th>242</th>\n",
       "      <td>2019-09-17</td>\n",
       "      <td>46.389999</td>\n",
       "      <td>47.450001</td>\n",
       "      <td>46.119999</td>\n",
       "      <td>47.299999</td>\n",
       "      <td>47.299999</td>\n",
       "      <td>6744200</td>\n",
       "    </tr>\n",
       "    <tr>\n",
       "      <th>243</th>\n",
       "      <td>2019-09-18</td>\n",
       "      <td>47.459999</td>\n",
       "      <td>48.250000</td>\n",
       "      <td>47.160000</td>\n",
       "      <td>48.020000</td>\n",
       "      <td>48.020000</td>\n",
       "      <td>8528300</td>\n",
       "    </tr>\n",
       "    <tr>\n",
       "      <th>244</th>\n",
       "      <td>2019-09-19</td>\n",
       "      <td>48.410000</td>\n",
       "      <td>48.700001</td>\n",
       "      <td>46.770000</td>\n",
       "      <td>46.770000</td>\n",
       "      <td>46.770000</td>\n",
       "      <td>9661800</td>\n",
       "    </tr>\n",
       "    <tr>\n",
       "      <th>245</th>\n",
       "      <td>2019-09-20</td>\n",
       "      <td>47.000000</td>\n",
       "      <td>47.980000</td>\n",
       "      <td>46.900002</td>\n",
       "      <td>47.509998</td>\n",
       "      <td>47.509998</td>\n",
       "      <td>15284500</td>\n",
       "    </tr>\n",
       "  </tbody>\n",
       "</table>\n",
       "</div>"
      ],
      "text/plain": [
       "           Date       Open       High        Low      Close  Adj Close  \\\n",
       "241  2019-09-16  47.040001  47.560001  46.299999  46.650002  46.650002   \n",
       "242  2019-09-17  46.389999  47.450001  46.119999  47.299999  47.299999   \n",
       "243  2019-09-18  47.459999  48.250000  47.160000  48.020000  48.020000   \n",
       "244  2019-09-19  48.410000  48.700001  46.770000  46.770000  46.770000   \n",
       "245  2019-09-20  47.000000  47.980000  46.900002  47.509998  47.509998   \n",
       "\n",
       "       Volume  \n",
       "241   8175500  \n",
       "242   6744200  \n",
       "243   8528300  \n",
       "244   9661800  \n",
       "245  15284500  "
      ]
     },
     "execution_count": 28,
     "metadata": {},
     "output_type": "execute_result"
    }
   ],
   "source": [
    "# The .head() shows us the top 5 rows in the dataset.\n",
    "df.head()\n",
    "\n",
    "# The .tail() shows us the bottom 5 rows.\n",
    "df.tail()"
   ]
  },
  {
   "cell_type": "code",
   "execution_count": 29,
   "metadata": {},
   "outputs": [
    {
     "name": "stdout",
     "output_type": "stream",
     "text": [
      "<class 'pandas.core.frame.DataFrame'>\n",
      "RangeIndex: 246 entries, 0 to 245\n",
      "Data columns (total 7 columns):\n",
      " #   Column     Non-Null Count  Dtype  \n",
      "---  ------     --------------  -----  \n",
      " 0   Date       246 non-null    object \n",
      " 1   Open       246 non-null    float64\n",
      " 2   High       246 non-null    float64\n",
      " 3   Low        246 non-null    float64\n",
      " 4   Close      246 non-null    float64\n",
      " 5   Adj Close  246 non-null    float64\n",
      " 6   Volume     246 non-null    int64  \n",
      "dtypes: float64(5), int64(1), object(1)\n",
      "memory usage: 13.6+ KB\n"
     ]
    }
   ],
   "source": [
    "# We can explore the different characteristics of the DataFrame.\n",
    "\n",
    "# This tell us the type of data\n",
    "type(df) \n",
    "\n",
    "# This tells us the types of data of the different series in the DataFrame\n",
    "df.dtypes \n",
    "\n",
    "# This way we can summarize information as a table\n",
    "df.info() \n",
    "\n",
    "# Will display the names of the series in the DataFrame\n",
    "df.columns \n",
    "\n",
    "# We can store the names of the series as a list\n",
    "name_of_cols = df.columns \n"
   ]
  },
  {
   "cell_type": "code",
   "execution_count": 30,
   "metadata": {},
   "outputs": [
    {
     "name": "stdout",
     "output_type": "stream",
     "text": [
      "Name of columns is :Index(['Date', 'Open', 'High', 'Low', 'Close', 'Adj Close', 'Volume'], dtype='object')\n"
     ]
    }
   ],
   "source": [
    "# We can select a series\n",
    "df['High']\n",
    "\n",
    "# We can also find out what the type of a series is.\n",
    "type(df['Date'])\n",
    "\n",
    "# Remember the variable storing the list of series names? Let's print it.\n",
    "print(f\"Name of columns is :{name_of_cols}\")"
   ]
  },
  {
   "cell_type": "code",
   "execution_count": 31,
   "metadata": {},
   "outputs": [
    {
     "name": "stdout",
     "output_type": "stream",
     "text": [
      "Median is 47.955 and mean is 48.152113682926824\n"
     ]
    }
   ],
   "source": [
    "# We can get more insightful data on the dataset, such as descriptive data like mean and median.\n",
    "low_median = df.Low.median()\n",
    "high_mean = df.High.mean()\n",
    "print(f\"Median is {low_median} and mean is {high_mean}\")"
   ]
  },
  {
   "cell_type": "code",
   "execution_count": 32,
   "metadata": {},
   "outputs": [
    {
     "data": {
      "text/plain": [
       "count    246.000000\n",
       "mean      48.152114\n",
       "std        5.340762\n",
       "min       29.760000\n",
       "25%       45.450001\n",
       "50%       49.270000\n",
       "75%       52.169998\n",
       "max       55.910000\n",
       "Name: High, dtype: float64"
      ]
     },
     "execution_count": 32,
     "metadata": {},
     "output_type": "execute_result"
    }
   ],
   "source": [
    "# If we want we can see all descriptives of a Series in one go.\n",
    "df.High.describe()"
   ]
  },
  {
   "cell_type": "code",
   "execution_count": 33,
   "metadata": {},
   "outputs": [
    {
     "data": {
      "text/plain": [
       "0      2018-09-21\n",
       "1      2018-09-24\n",
       "2      2018-09-25\n",
       "3      2018-09-26\n",
       "4      2018-09-27\n",
       "          ...    \n",
       "241    2019-09-16\n",
       "242    2019-09-17\n",
       "243    2019-09-18\n",
       "244    2019-09-19\n",
       "245    2019-09-20\n",
       "Name: Date, Length: 246, dtype: object"
      ]
     },
     "execution_count": 33,
     "metadata": {},
     "output_type": "execute_result"
    }
   ],
   "source": [
    "# We can also work with dates\n",
    "df.Date"
   ]
  },
  {
   "cell_type": "code",
   "execution_count": 34,
   "metadata": {},
   "outputs": [
    {
     "data": {
      "text/plain": [
       "0      2018\n",
       "1      2018\n",
       "2      2018\n",
       "3      2018\n",
       "4      2018\n",
       "       ... \n",
       "241    2019\n",
       "242    2019\n",
       "243    2019\n",
       "244    2019\n",
       "245    2019\n",
       "Name: Date, Length: 246, dtype: int32"
      ]
     },
     "execution_count": 34,
     "metadata": {},
     "output_type": "execute_result"
    }
   ],
   "source": [
    "# Formatting dates is essential so we can later fetch day, month and year from the Series.\n",
    "pd.Date = pd.to_datetime(df.Date,format='%Y-%m-%d')\n",
    "\n",
    "pd.Date.dt.year # getting year"
   ]
  },
  {
   "cell_type": "code",
   "execution_count": 35,
   "metadata": {},
   "outputs": [
    {
     "data": {
      "text/plain": [
       "0      21\n",
       "1      24\n",
       "2      25\n",
       "3      26\n",
       "4      27\n",
       "       ..\n",
       "241    16\n",
       "242    17\n",
       "243    18\n",
       "244    19\n",
       "245    20\n",
       "Name: Date, Length: 246, dtype: int32"
      ]
     },
     "execution_count": 35,
     "metadata": {},
     "output_type": "execute_result"
    }
   ],
   "source": [
    "# Getting the day\n",
    "pd.Date.dt.day "
   ]
  },
  {
   "cell_type": "code",
   "execution_count": 36,
   "metadata": {},
   "outputs": [
    {
     "data": {
      "text/plain": [
       "0      9\n",
       "1      9\n",
       "2      9\n",
       "3      9\n",
       "4      9\n",
       "      ..\n",
       "241    9\n",
       "242    9\n",
       "243    9\n",
       "244    9\n",
       "245    9\n",
       "Name: Date, Length: 246, dtype: int32"
      ]
     },
     "execution_count": 36,
     "metadata": {},
     "output_type": "execute_result"
    }
   ],
   "source": [
    "# Getting the month\n",
    "pd.Date.dt.month"
   ]
  }
 ],
 "metadata": {
  "kernelspec": {
   "display_name": "Python 3",
   "language": "python",
   "name": "python3"
  },
  "language_info": {
   "codemirror_mode": {
    "name": "ipython",
    "version": 3
   },
   "file_extension": ".py",
   "mimetype": "text/x-python",
   "name": "python",
   "nbconvert_exporter": "python",
   "pygments_lexer": "ipython3",
   "version": "3.11.7"
  }
 },
 "nbformat": 4,
 "nbformat_minor": 2
}
