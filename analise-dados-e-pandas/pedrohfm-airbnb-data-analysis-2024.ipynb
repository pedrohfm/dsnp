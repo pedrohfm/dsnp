{
  "cells": [
    {
      "cell_type": "markdown",
      "metadata": {
        "id": "kLI0gJtzDGuQ"
      },
      "source": [
        "<img alt=\"Colaboratory logo\" width=\"15%\" src=\"https://raw.githubusercontent.com/carlosfab/escola-data-science/master/img/novo_logo_bg_claro.png\">\n",
        "\n",
        "#### **Data Science na Prática 4.0**\n",
        "*by [sigmoidal.ai](https://sigmoidal.ai)*\n",
        "\n",
        "---\n",
        "\n",
        "# Airbnb data analysis - *Amsterdam*\n",
        "\n",
        "[Airbnb](https://www.airbnb.com) já é considerado como sendo a **maior empresa hoteleira da atualidade**. Ah, o detalhe é que ele **não possui nenhum hotel**!\n",
        "\n",
        "Conectando pessoas que querem viajar (e se hospedar) com anfitriões que querem alugar seus imóveis de maneira prática, o Airbnb fornece uma plataforma inovadora para tornar essa hospedagem alternativa.\n",
        "\n",
        "No final de 2018, a Startup fundada 10 anos atrás, já havia **hospedado mais de 300 milhões** de pessoas ao redor de todo o mundo, desafiando as redes hoteleiras tradicionais.\n",
        "\n",
        "Uma das iniciativas do Airbnb é disponibilizar dados do site, para algumas das principais cidades do mundo. Por meio do portal [Inside Airbnb](http://insideairbnb.com/get-the-data.html), é possível baixar uma grande quantidade de dados para desenvolver projetos e soluções de *Data Science*.\n",
        "\n",
        "<center><img alt=\"Analisando Airbnb\" width=\"10%\" src=\"https://www.area360.com.au/wp-content/uploads/2017/09/airbnb-logo.jpg\"></center>\n",
        "\n",
        "**Neste *notebook*, iremos analisar os dados referentes à cidade ________, e ver quais insights podem ser extraídos a partir de dados brutos.**"
      ]
    },
    {
      "cell_type": "markdown",
      "metadata": {
        "id": "0zxQHhIUDF_2"
      },
      "source": [
        "## Getting data\n"
      ]
    },
    {
      "cell_type": "code",
      "execution_count": 85,
      "metadata": {
        "id": "Vhp2wMPgJ6zX"
      },
      "outputs": [],
      "source": [
        "# importing necessary packages\n",
        "import pandas as pd\n",
        "import matplotlib.pyplot as plt\n",
        "import seaborn as sns\n",
        "%matplotlib inline"
      ]
    },
    {
      "cell_type": "code",
      "execution_count": 86,
      "metadata": {
        "id": "tUmoAT8DLQ5T"
      },
      "outputs": [
        {
          "data": {
            "text/html": [
              "<div>\n",
              "<style scoped>\n",
              "    .dataframe tbody tr th:only-of-type {\n",
              "        vertical-align: middle;\n",
              "    }\n",
              "\n",
              "    .dataframe tbody tr th {\n",
              "        vertical-align: top;\n",
              "    }\n",
              "\n",
              "    .dataframe thead th {\n",
              "        text-align: right;\n",
              "    }\n",
              "</style>\n",
              "<table border=\"1\" class=\"dataframe\">\n",
              "  <thead>\n",
              "    <tr style=\"text-align: right;\">\n",
              "      <th></th>\n",
              "      <th>name</th>\n",
              "      <th>host_id</th>\n",
              "      <th>host_name</th>\n",
              "      <th>neighbourhood_group</th>\n",
              "      <th>neighbourhood</th>\n",
              "      <th>latitude</th>\n",
              "      <th>longitude</th>\n",
              "      <th>room_type</th>\n",
              "      <th>price</th>\n",
              "      <th>minimum_nights</th>\n",
              "      <th>number_of_reviews</th>\n",
              "      <th>last_review</th>\n",
              "      <th>reviews_per_month</th>\n",
              "      <th>calculated_host_listings_count</th>\n",
              "      <th>availability_365</th>\n",
              "      <th>number_of_reviews_ltm</th>\n",
              "      <th>license</th>\n",
              "    </tr>\n",
              "    <tr>\n",
              "      <th>id</th>\n",
              "      <th></th>\n",
              "      <th></th>\n",
              "      <th></th>\n",
              "      <th></th>\n",
              "      <th></th>\n",
              "      <th></th>\n",
              "      <th></th>\n",
              "      <th></th>\n",
              "      <th></th>\n",
              "      <th></th>\n",
              "      <th></th>\n",
              "      <th></th>\n",
              "      <th></th>\n",
              "      <th></th>\n",
              "      <th></th>\n",
              "      <th></th>\n",
              "      <th></th>\n",
              "    </tr>\n",
              "  </thead>\n",
              "  <tbody>\n",
              "    <tr>\n",
              "      <th>262394</th>\n",
              "      <td>Charming Studio with Roof Terrace</td>\n",
              "      <td>1376607</td>\n",
              "      <td>Martin</td>\n",
              "      <td>NaN</td>\n",
              "      <td>Zuid</td>\n",
              "      <td>52.356950</td>\n",
              "      <td>4.852340</td>\n",
              "      <td>Private room</td>\n",
              "      <td>NaN</td>\n",
              "      <td>3</td>\n",
              "      <td>113</td>\n",
              "      <td>2019-10-07</td>\n",
              "      <td>0.78</td>\n",
              "      <td>1</td>\n",
              "      <td>0</td>\n",
              "      <td>0</td>\n",
              "      <td>0363 B86D 98DE 3A24 8790</td>\n",
              "    </tr>\n",
              "    <tr>\n",
              "      <th>286500</th>\n",
              "      <td>Centre, canal view with private bathroom</td>\n",
              "      <td>1491565</td>\n",
              "      <td>David</td>\n",
              "      <td>NaN</td>\n",
              "      <td>Centrum-West</td>\n",
              "      <td>52.375610</td>\n",
              "      <td>4.900000</td>\n",
              "      <td>Private room</td>\n",
              "      <td>148.0</td>\n",
              "      <td>3</td>\n",
              "      <td>373</td>\n",
              "      <td>2024-03-07</td>\n",
              "      <td>2.53</td>\n",
              "      <td>2</td>\n",
              "      <td>188</td>\n",
              "      <td>23</td>\n",
              "      <td>0363 DF01 FBC0 496B 9730</td>\n",
              "    </tr>\n",
              "    <tr>\n",
              "      <th>283170</th>\n",
              "      <td>5-bedrooms house; central location</td>\n",
              "      <td>1451657</td>\n",
              "      <td>Marco</td>\n",
              "      <td>NaN</td>\n",
              "      <td>Zuid</td>\n",
              "      <td>52.354350</td>\n",
              "      <td>4.873160</td>\n",
              "      <td>Entire home/apt</td>\n",
              "      <td>950.0</td>\n",
              "      <td>2</td>\n",
              "      <td>124</td>\n",
              "      <td>2023-10-08</td>\n",
              "      <td>0.85</td>\n",
              "      <td>1</td>\n",
              "      <td>0</td>\n",
              "      <td>6</td>\n",
              "      <td>0363 0240 34A0 48C3 6D81</td>\n",
              "    </tr>\n",
              "    <tr>\n",
              "      <th>290701</th>\n",
              "      <td>Central, big window, rear room with private bath.</td>\n",
              "      <td>1491565</td>\n",
              "      <td>David</td>\n",
              "      <td>NaN</td>\n",
              "      <td>Centrum-West</td>\n",
              "      <td>52.375610</td>\n",
              "      <td>4.900000</td>\n",
              "      <td>Private room</td>\n",
              "      <td>138.0</td>\n",
              "      <td>3</td>\n",
              "      <td>448</td>\n",
              "      <td>2024-03-03</td>\n",
              "      <td>3.05</td>\n",
              "      <td>2</td>\n",
              "      <td>220</td>\n",
              "      <td>42</td>\n",
              "      <td>0363 DF01 FBC0 496B 9730</td>\n",
              "    </tr>\n",
              "    <tr>\n",
              "      <th>304082</th>\n",
              "      <td>Private+quiet studio in the heart of town+balc...</td>\n",
              "      <td>276068</td>\n",
              "      <td>Mirre</td>\n",
              "      <td>NaN</td>\n",
              "      <td>Centrum-West</td>\n",
              "      <td>52.372390</td>\n",
              "      <td>4.896570</td>\n",
              "      <td>Private room</td>\n",
              "      <td>142.0</td>\n",
              "      <td>3</td>\n",
              "      <td>294</td>\n",
              "      <td>2024-02-23</td>\n",
              "      <td>2.02</td>\n",
              "      <td>1</td>\n",
              "      <td>241</td>\n",
              "      <td>69</td>\n",
              "      <td>0363 6C40 7413 ADD3 9AF8</td>\n",
              "    </tr>\n",
              "    <tr>\n",
              "      <th>...</th>\n",
              "      <td>...</td>\n",
              "      <td>...</td>\n",
              "      <td>...</td>\n",
              "      <td>...</td>\n",
              "      <td>...</td>\n",
              "      <td>...</td>\n",
              "      <td>...</td>\n",
              "      <td>...</td>\n",
              "      <td>...</td>\n",
              "      <td>...</td>\n",
              "      <td>...</td>\n",
              "      <td>...</td>\n",
              "      <td>...</td>\n",
              "      <td>...</td>\n",
              "      <td>...</td>\n",
              "      <td>...</td>\n",
              "      <td>...</td>\n",
              "    </tr>\n",
              "    <tr>\n",
              "      <th>1108849181649536044</th>\n",
              "      <td>Lovely stay</td>\n",
              "      <td>28916643</td>\n",
              "      <td>Nadia</td>\n",
              "      <td>NaN</td>\n",
              "      <td>Slotervaart</td>\n",
              "      <td>52.363420</td>\n",
              "      <td>4.837510</td>\n",
              "      <td>Entire home/apt</td>\n",
              "      <td>250.0</td>\n",
              "      <td>1</td>\n",
              "      <td>0</td>\n",
              "      <td>NaN</td>\n",
              "      <td>NaN</td>\n",
              "      <td>1</td>\n",
              "      <td>269</td>\n",
              "      <td>0</td>\n",
              "      <td>0363 A050 B431 A291 0710</td>\n",
              "    </tr>\n",
              "    <tr>\n",
              "      <th>1109126469335118294</th>\n",
              "      <td>Cozy apartment on hot spot.</td>\n",
              "      <td>50711042</td>\n",
              "      <td>Marc</td>\n",
              "      <td>NaN</td>\n",
              "      <td>Centrum-Oost</td>\n",
              "      <td>52.361767</td>\n",
              "      <td>4.887471</td>\n",
              "      <td>Entire home/apt</td>\n",
              "      <td>245.0</td>\n",
              "      <td>1</td>\n",
              "      <td>0</td>\n",
              "      <td>NaN</td>\n",
              "      <td>NaN</td>\n",
              "      <td>3</td>\n",
              "      <td>242</td>\n",
              "      <td>0</td>\n",
              "      <td>0363 B483 73B8 AEDB EFA4</td>\n",
              "    </tr>\n",
              "    <tr>\n",
              "      <th>1109162493263343239</th>\n",
              "      <td>Great stay at top location.</td>\n",
              "      <td>50711042</td>\n",
              "      <td>Marc</td>\n",
              "      <td>NaN</td>\n",
              "      <td>Centrum-Oost</td>\n",
              "      <td>52.361990</td>\n",
              "      <td>4.885580</td>\n",
              "      <td>Entire home/apt</td>\n",
              "      <td>341.0</td>\n",
              "      <td>1</td>\n",
              "      <td>0</td>\n",
              "      <td>NaN</td>\n",
              "      <td>NaN</td>\n",
              "      <td>3</td>\n",
              "      <td>239</td>\n",
              "      <td>0</td>\n",
              "      <td>0363 B483 73B8 AEDB EFA4</td>\n",
              "    </tr>\n",
              "    <tr>\n",
              "      <th>1109268272945901766</th>\n",
              "      <td>Huis met de krul</td>\n",
              "      <td>563944736</td>\n",
              "      <td>Cathalijne</td>\n",
              "      <td>NaN</td>\n",
              "      <td>IJburg - Zeeburgereiland</td>\n",
              "      <td>52.350720</td>\n",
              "      <td>5.016412</td>\n",
              "      <td>Entire home/apt</td>\n",
              "      <td>199.0</td>\n",
              "      <td>2</td>\n",
              "      <td>0</td>\n",
              "      <td>NaN</td>\n",
              "      <td>NaN</td>\n",
              "      <td>1</td>\n",
              "      <td>268</td>\n",
              "      <td>0</td>\n",
              "      <td>0363 7F72 AF12 32C1 29B1</td>\n",
              "    </tr>\n",
              "    <tr>\n",
              "      <th>1109473642251627205</th>\n",
              "      <td>Appartement aan het Westerpark</td>\n",
              "      <td>371219931</td>\n",
              "      <td>Eric</td>\n",
              "      <td>NaN</td>\n",
              "      <td>Bos en Lommer</td>\n",
              "      <td>52.385752</td>\n",
              "      <td>4.850451</td>\n",
              "      <td>Entire home/apt</td>\n",
              "      <td>130.0</td>\n",
              "      <td>14</td>\n",
              "      <td>0</td>\n",
              "      <td>NaN</td>\n",
              "      <td>NaN</td>\n",
              "      <td>1</td>\n",
              "      <td>32</td>\n",
              "      <td>0</td>\n",
              "      <td>0363 0558 8D23 4B26 92FF</td>\n",
              "    </tr>\n",
              "  </tbody>\n",
              "</table>\n",
              "<p>8945 rows × 17 columns</p>\n",
              "</div>"
            ],
            "text/plain": [
              "                                                                  name  \\\n",
              "id                                                                       \n",
              "262394                               Charming Studio with Roof Terrace   \n",
              "286500                        Centre, canal view with private bathroom   \n",
              "283170                              5-bedrooms house; central location   \n",
              "290701               Central, big window, rear room with private bath.   \n",
              "304082               Private+quiet studio in the heart of town+balc...   \n",
              "...                                                                ...   \n",
              "1108849181649536044                                        Lovely stay   \n",
              "1109126469335118294                        Cozy apartment on hot spot.   \n",
              "1109162493263343239                        Great stay at top location.   \n",
              "1109268272945901766                                   Huis met de krul   \n",
              "1109473642251627205                     Appartement aan het Westerpark   \n",
              "\n",
              "                       host_id   host_name  neighbourhood_group  \\\n",
              "id                                                                \n",
              "262394                 1376607      Martin                  NaN   \n",
              "286500                 1491565       David                  NaN   \n",
              "283170                 1451657       Marco                  NaN   \n",
              "290701                 1491565       David                  NaN   \n",
              "304082                  276068       Mirre                  NaN   \n",
              "...                        ...         ...                  ...   \n",
              "1108849181649536044   28916643       Nadia                  NaN   \n",
              "1109126469335118294   50711042        Marc                  NaN   \n",
              "1109162493263343239   50711042        Marc                  NaN   \n",
              "1109268272945901766  563944736  Cathalijne                  NaN   \n",
              "1109473642251627205  371219931        Eric                  NaN   \n",
              "\n",
              "                                neighbourhood   latitude  longitude  \\\n",
              "id                                                                    \n",
              "262394                                   Zuid  52.356950   4.852340   \n",
              "286500                           Centrum-West  52.375610   4.900000   \n",
              "283170                                   Zuid  52.354350   4.873160   \n",
              "290701                           Centrum-West  52.375610   4.900000   \n",
              "304082                           Centrum-West  52.372390   4.896570   \n",
              "...                                       ...        ...        ...   \n",
              "1108849181649536044               Slotervaart  52.363420   4.837510   \n",
              "1109126469335118294              Centrum-Oost  52.361767   4.887471   \n",
              "1109162493263343239              Centrum-Oost  52.361990   4.885580   \n",
              "1109268272945901766  IJburg - Zeeburgereiland  52.350720   5.016412   \n",
              "1109473642251627205             Bos en Lommer  52.385752   4.850451   \n",
              "\n",
              "                           room_type  price  minimum_nights  \\\n",
              "id                                                            \n",
              "262394                  Private room    NaN               3   \n",
              "286500                  Private room  148.0               3   \n",
              "283170               Entire home/apt  950.0               2   \n",
              "290701                  Private room  138.0               3   \n",
              "304082                  Private room  142.0               3   \n",
              "...                              ...    ...             ...   \n",
              "1108849181649536044  Entire home/apt  250.0               1   \n",
              "1109126469335118294  Entire home/apt  245.0               1   \n",
              "1109162493263343239  Entire home/apt  341.0               1   \n",
              "1109268272945901766  Entire home/apt  199.0               2   \n",
              "1109473642251627205  Entire home/apt  130.0              14   \n",
              "\n",
              "                     number_of_reviews last_review  reviews_per_month  \\\n",
              "id                                                                      \n",
              "262394                             113  2019-10-07               0.78   \n",
              "286500                             373  2024-03-07               2.53   \n",
              "283170                             124  2023-10-08               0.85   \n",
              "290701                             448  2024-03-03               3.05   \n",
              "304082                             294  2024-02-23               2.02   \n",
              "...                                ...         ...                ...   \n",
              "1108849181649536044                  0         NaN                NaN   \n",
              "1109126469335118294                  0         NaN                NaN   \n",
              "1109162493263343239                  0         NaN                NaN   \n",
              "1109268272945901766                  0         NaN                NaN   \n",
              "1109473642251627205                  0         NaN                NaN   \n",
              "\n",
              "                     calculated_host_listings_count  availability_365  \\\n",
              "id                                                                      \n",
              "262394                                            1                 0   \n",
              "286500                                            2               188   \n",
              "283170                                            1                 0   \n",
              "290701                                            2               220   \n",
              "304082                                            1               241   \n",
              "...                                             ...               ...   \n",
              "1108849181649536044                               1               269   \n",
              "1109126469335118294                               3               242   \n",
              "1109162493263343239                               3               239   \n",
              "1109268272945901766                               1               268   \n",
              "1109473642251627205                               1                32   \n",
              "\n",
              "                     number_of_reviews_ltm                   license  \n",
              "id                                                                    \n",
              "262394                                   0  0363 B86D 98DE 3A24 8790  \n",
              "286500                                  23  0363 DF01 FBC0 496B 9730  \n",
              "283170                                   6  0363 0240 34A0 48C3 6D81  \n",
              "290701                                  42  0363 DF01 FBC0 496B 9730  \n",
              "304082                                  69  0363 6C40 7413 ADD3 9AF8  \n",
              "...                                    ...                       ...  \n",
              "1108849181649536044                      0  0363 A050 B431 A291 0710  \n",
              "1109126469335118294                      0  0363 B483 73B8 AEDB EFA4  \n",
              "1109162493263343239                      0  0363 B483 73B8 AEDB EFA4  \n",
              "1109268272945901766                      0  0363 7F72 AF12 32C1 29B1  \n",
              "1109473642251627205                      0  0363 0558 8D23 4B26 92FF  \n",
              "\n",
              "[8945 rows x 17 columns]"
            ]
          },
          "execution_count": 86,
          "metadata": {},
          "output_type": "execute_result"
        }
      ],
      "source": [
        "# importing csv file containing airbnb data into a DataFrame\n",
        "df = pd.read_csv(\"./ams-listings.csv\",index_col='id')\n",
        "df"
      ]
    },
    {
      "cell_type": "markdown",
      "metadata": {
        "id": "qb5By2nIMS6m"
      },
      "source": [
        "## Data Analysis\n"
      ]
    },
    {
      "cell_type": "markdown",
      "metadata": {
        "id": "RYgvuebKNg8-"
      },
      "source": [
        "**Variable dictionary**\n",
        ".\n",
        "* id: listing's unique identifier number (categorical).\n",
        "* name: listing's name (categorical).\n",
        "* host_id: host's unique identifier number (categorical).\n",
        "* host_name: host's name (categorical).\n",
        "* neighbourhood_group: no data.\n",
        "* neighbourhood: listing's neighbourhood (categorical).\n",
        "* latitude: coordinates lat (numerical).\n",
        "* longitude: coordinates long (numerical).\n",
        "* room_type: type of listing, such as room, whole apartment, etc... (categorical).\n",
        "* price: price per day (numerical).\n",
        "* minimum_nights: the minimum amount of nights a guest has to stay to be able to book the listing (numerical).\n",
        "* number_of_reviews: how many times the listing has received reviews from guests (numerical).\n",
        "* last_review: date when the last review was left by a guest (categorical in this case - doesn't make sense to perform operations between last review dates between listings, we want to simply know the date).\n",
        "* reviews_per_month: reviews per month (numerical).\n",
        "* calculated_host_listings_count: number of listings the host has on airbnb (numerical).\n",
        "* availability_365: days the listing is available for in a period of 365 days (numerical).\n",
        "* number_of_reviews_ltm: number of reviews received in the last twelve months (numerical).\n",
        "* license: listing's licence or permit code, if a license or permit is required (categorical).\n",
        "\n",
        "Antes de iniciar qualquer análise, vamos verificar a cara do nosso *dataset*, analisando as 5 primeiras entradas."
      ]
    },
    {
      "cell_type": "code",
      "execution_count": 87,
      "metadata": {
        "id": "2iS_dae7YQtO"
      },
      "outputs": [
        {
          "data": {
            "text/html": [
              "<div>\n",
              "<style scoped>\n",
              "    .dataframe tbody tr th:only-of-type {\n",
              "        vertical-align: middle;\n",
              "    }\n",
              "\n",
              "    .dataframe tbody tr th {\n",
              "        vertical-align: top;\n",
              "    }\n",
              "\n",
              "    .dataframe thead th {\n",
              "        text-align: right;\n",
              "    }\n",
              "</style>\n",
              "<table border=\"1\" class=\"dataframe\">\n",
              "  <thead>\n",
              "    <tr style=\"text-align: right;\">\n",
              "      <th></th>\n",
              "      <th>name</th>\n",
              "      <th>host_id</th>\n",
              "      <th>host_name</th>\n",
              "      <th>neighbourhood_group</th>\n",
              "      <th>neighbourhood</th>\n",
              "      <th>latitude</th>\n",
              "      <th>longitude</th>\n",
              "      <th>room_type</th>\n",
              "      <th>price</th>\n",
              "      <th>minimum_nights</th>\n",
              "      <th>number_of_reviews</th>\n",
              "      <th>last_review</th>\n",
              "      <th>reviews_per_month</th>\n",
              "      <th>calculated_host_listings_count</th>\n",
              "      <th>availability_365</th>\n",
              "      <th>number_of_reviews_ltm</th>\n",
              "      <th>license</th>\n",
              "    </tr>\n",
              "    <tr>\n",
              "      <th>id</th>\n",
              "      <th></th>\n",
              "      <th></th>\n",
              "      <th></th>\n",
              "      <th></th>\n",
              "      <th></th>\n",
              "      <th></th>\n",
              "      <th></th>\n",
              "      <th></th>\n",
              "      <th></th>\n",
              "      <th></th>\n",
              "      <th></th>\n",
              "      <th></th>\n",
              "      <th></th>\n",
              "      <th></th>\n",
              "      <th></th>\n",
              "      <th></th>\n",
              "      <th></th>\n",
              "    </tr>\n",
              "  </thead>\n",
              "  <tbody>\n",
              "    <tr>\n",
              "      <th>262394</th>\n",
              "      <td>Charming Studio with Roof Terrace</td>\n",
              "      <td>1376607</td>\n",
              "      <td>Martin</td>\n",
              "      <td>NaN</td>\n",
              "      <td>Zuid</td>\n",
              "      <td>52.35695</td>\n",
              "      <td>4.85234</td>\n",
              "      <td>Private room</td>\n",
              "      <td>NaN</td>\n",
              "      <td>3</td>\n",
              "      <td>113</td>\n",
              "      <td>2019-10-07</td>\n",
              "      <td>0.78</td>\n",
              "      <td>1</td>\n",
              "      <td>0</td>\n",
              "      <td>0</td>\n",
              "      <td>0363 B86D 98DE 3A24 8790</td>\n",
              "    </tr>\n",
              "    <tr>\n",
              "      <th>286500</th>\n",
              "      <td>Centre, canal view with private bathroom</td>\n",
              "      <td>1491565</td>\n",
              "      <td>David</td>\n",
              "      <td>NaN</td>\n",
              "      <td>Centrum-West</td>\n",
              "      <td>52.37561</td>\n",
              "      <td>4.90000</td>\n",
              "      <td>Private room</td>\n",
              "      <td>148.0</td>\n",
              "      <td>3</td>\n",
              "      <td>373</td>\n",
              "      <td>2024-03-07</td>\n",
              "      <td>2.53</td>\n",
              "      <td>2</td>\n",
              "      <td>188</td>\n",
              "      <td>23</td>\n",
              "      <td>0363 DF01 FBC0 496B 9730</td>\n",
              "    </tr>\n",
              "    <tr>\n",
              "      <th>283170</th>\n",
              "      <td>5-bedrooms house; central location</td>\n",
              "      <td>1451657</td>\n",
              "      <td>Marco</td>\n",
              "      <td>NaN</td>\n",
              "      <td>Zuid</td>\n",
              "      <td>52.35435</td>\n",
              "      <td>4.87316</td>\n",
              "      <td>Entire home/apt</td>\n",
              "      <td>950.0</td>\n",
              "      <td>2</td>\n",
              "      <td>124</td>\n",
              "      <td>2023-10-08</td>\n",
              "      <td>0.85</td>\n",
              "      <td>1</td>\n",
              "      <td>0</td>\n",
              "      <td>6</td>\n",
              "      <td>0363 0240 34A0 48C3 6D81</td>\n",
              "    </tr>\n",
              "    <tr>\n",
              "      <th>290701</th>\n",
              "      <td>Central, big window, rear room with private bath.</td>\n",
              "      <td>1491565</td>\n",
              "      <td>David</td>\n",
              "      <td>NaN</td>\n",
              "      <td>Centrum-West</td>\n",
              "      <td>52.37561</td>\n",
              "      <td>4.90000</td>\n",
              "      <td>Private room</td>\n",
              "      <td>138.0</td>\n",
              "      <td>3</td>\n",
              "      <td>448</td>\n",
              "      <td>2024-03-03</td>\n",
              "      <td>3.05</td>\n",
              "      <td>2</td>\n",
              "      <td>220</td>\n",
              "      <td>42</td>\n",
              "      <td>0363 DF01 FBC0 496B 9730</td>\n",
              "    </tr>\n",
              "    <tr>\n",
              "      <th>304082</th>\n",
              "      <td>Private+quiet studio in the heart of town+balc...</td>\n",
              "      <td>276068</td>\n",
              "      <td>Mirre</td>\n",
              "      <td>NaN</td>\n",
              "      <td>Centrum-West</td>\n",
              "      <td>52.37239</td>\n",
              "      <td>4.89657</td>\n",
              "      <td>Private room</td>\n",
              "      <td>142.0</td>\n",
              "      <td>3</td>\n",
              "      <td>294</td>\n",
              "      <td>2024-02-23</td>\n",
              "      <td>2.02</td>\n",
              "      <td>1</td>\n",
              "      <td>241</td>\n",
              "      <td>69</td>\n",
              "      <td>0363 6C40 7413 ADD3 9AF8</td>\n",
              "    </tr>\n",
              "  </tbody>\n",
              "</table>\n",
              "</div>"
            ],
            "text/plain": [
              "                                                     name  host_id host_name  \\\n",
              "id                                                                             \n",
              "262394                  Charming Studio with Roof Terrace  1376607    Martin   \n",
              "286500           Centre, canal view with private bathroom  1491565     David   \n",
              "283170                 5-bedrooms house; central location  1451657     Marco   \n",
              "290701  Central, big window, rear room with private bath.  1491565     David   \n",
              "304082  Private+quiet studio in the heart of town+balc...   276068     Mirre   \n",
              "\n",
              "        neighbourhood_group neighbourhood  latitude  longitude  \\\n",
              "id                                                               \n",
              "262394                  NaN          Zuid  52.35695    4.85234   \n",
              "286500                  NaN  Centrum-West  52.37561    4.90000   \n",
              "283170                  NaN          Zuid  52.35435    4.87316   \n",
              "290701                  NaN  Centrum-West  52.37561    4.90000   \n",
              "304082                  NaN  Centrum-West  52.37239    4.89657   \n",
              "\n",
              "              room_type  price  minimum_nights  number_of_reviews last_review  \\\n",
              "id                                                                              \n",
              "262394     Private room    NaN               3                113  2019-10-07   \n",
              "286500     Private room  148.0               3                373  2024-03-07   \n",
              "283170  Entire home/apt  950.0               2                124  2023-10-08   \n",
              "290701     Private room  138.0               3                448  2024-03-03   \n",
              "304082     Private room  142.0               3                294  2024-02-23   \n",
              "\n",
              "        reviews_per_month  calculated_host_listings_count  availability_365  \\\n",
              "id                                                                            \n",
              "262394               0.78                               1                 0   \n",
              "286500               2.53                               2               188   \n",
              "283170               0.85                               1                 0   \n",
              "290701               3.05                               2               220   \n",
              "304082               2.02                               1               241   \n",
              "\n",
              "        number_of_reviews_ltm                   license  \n",
              "id                                                       \n",
              "262394                      0  0363 B86D 98DE 3A24 8790  \n",
              "286500                     23  0363 DF01 FBC0 496B 9730  \n",
              "283170                      6  0363 0240 34A0 48C3 6D81  \n",
              "290701                     42  0363 DF01 FBC0 496B 9730  \n",
              "304082                     69  0363 6C40 7413 ADD3 9AF8  "
            ]
          },
          "execution_count": 87,
          "metadata": {},
          "output_type": "execute_result"
        }
      ],
      "source": [
        "# mostrar as 5 primeiras entradas\n",
        "df.head()"
      ]
    },
    {
      "cell_type": "markdown",
      "metadata": {
        "id": "6-B_qtEaYEd-"
      },
      "source": [
        "### **Q1. Quantos atributos (variáveis) e quantas entradas o nosso conjunto de dados possui? Quais os tipos das variáveis?**"
      ]
    },
    {
      "cell_type": "code",
      "execution_count": 88,
      "metadata": {
        "id": "TFRK0tniLV-G"
      },
      "outputs": [
        {
          "name": "stdout",
          "output_type": "stream",
          "text": [
            "Data has 8945 rows and 17 columns.\n"
          ]
        },
        {
          "data": {
            "text/plain": [
              "name                               object\n",
              "host_id                             int64\n",
              "host_name                          object\n",
              "neighbourhood_group               float64\n",
              "neighbourhood                      object\n",
              "latitude                          float64\n",
              "longitude                         float64\n",
              "room_type                          object\n",
              "price                             float64\n",
              "minimum_nights                      int64\n",
              "number_of_reviews                   int64\n",
              "last_review                        object\n",
              "reviews_per_month                 float64\n",
              "calculated_host_listings_count      int64\n",
              "availability_365                    int64\n",
              "number_of_reviews_ltm               int64\n",
              "license                            object\n",
              "dtype: object"
            ]
          },
          "execution_count": 88,
          "metadata": {},
          "output_type": "execute_result"
        }
      ],
      "source": [
        "# identify volume of data\n",
        "print(f\"Data has {df.shape[0]} rows and {df.shape[1]} columns.\")\n",
        "df.dtypes"
      ]
    },
    {
      "cell_type": "code",
      "execution_count": 89,
      "metadata": {},
      "outputs": [
        {
          "data": {
            "image/png": "[encoded data removed]",
            "text/plain": [
              "<Figure size 1000x1000 with 9 Axes>"
            ]
          },
          "metadata": {},
          "output_type": "display_data"
        }
      ],
      "source": [
        "df.hist(column=['price','reviews_per_month','number_of_reviews','number_of_reviews_ltm','availability_365','calculated_host_listings_count','minimum_nights'], bins=10, figsize=(10,10), grid=False);"
      ]
    },
    {
      "cell_type": "markdown",
      "metadata": {
        "id": "yz1urSUGW9iE"
      },
      "source": [
        "### **Q2. Qual a porcentagem de valores ausentes no *dataset*?**"
      ]
    },
    {
      "cell_type": "code",
      "execution_count": 90,
      "metadata": {
        "id": "plk2FjbCXOqP"
      },
      "outputs": [
        {
          "data": {
            "text/plain": [
              "neighbourhood_group               1.000000\n",
              "price                             0.390274\n",
              "last_review                       0.107323\n",
              "reviews_per_month                 0.107323\n",
              "license                           0.010732\n",
              "latitude                          0.000000\n",
              "longitude                         0.000000\n",
              "room_type                         0.000000\n",
              "host_id                           0.000000\n",
              "minimum_nights                    0.000000\n",
              "number_of_reviews                 0.000000\n",
              "neighbourhood                     0.000000\n",
              "host_name                         0.000000\n",
              "calculated_host_listings_count    0.000000\n",
              "availability_365                  0.000000\n",
              "number_of_reviews_ltm             0.000000\n",
              "name                              0.000000\n",
              "dtype: float64"
            ]
          },
          "execution_count": 90,
          "metadata": {},
          "output_type": "execute_result"
        }
      ],
      "source": [
        "# ordering the amount of missing values in the dataset per column\n",
        "df.isnull().sum().sort_values(ascending=False)/df.shape[0]"
      ]
    },
    {
      "cell_type": "markdown",
      "metadata": {},
      "source": [
        "## Cleaning dataset\n",
        "\n",
        "* The *neighbourhood_group* column has no data, so we can drop it.\n",
        "* There are 960 listings that seemingly haven't been reviewed yet, these shouldn't be removed just because they're missing values.\n",
        "* The license missing values could just be filled with \"exempted\", since it's likely that data wasn't entered because the listing is exempted from having a license. \n",
        "* Nearly 40%  of listings don't have a price. Let's see what we can do about it. "
      ]
    },
    {
      "cell_type": "code",
      "execution_count": 91,
      "metadata": {},
      "outputs": [],
      "source": [
        "# dropping the empty column\n",
        "df_clean = df.drop(columns=['neighbourhood_group'])\n",
        "\n",
        "# filling missing license data with \"Exempt\"\n",
        "df_clean = df_clean.fillna({'license':\"Exempt\"})"
      ]
    },
    {
      "cell_type": "code",
      "execution_count": 92,
      "metadata": {},
      "outputs": [
        {
          "data": {
            "text/html": [
              "<div>\n",
              "<style scoped>\n",
              "    .dataframe tbody tr th:only-of-type {\n",
              "        vertical-align: middle;\n",
              "    }\n",
              "\n",
              "    .dataframe tbody tr th {\n",
              "        vertical-align: top;\n",
              "    }\n",
              "\n",
              "    .dataframe thead th {\n",
              "        text-align: right;\n",
              "    }\n",
              "</style>\n",
              "<table border=\"1\" class=\"dataframe\">\n",
              "  <thead>\n",
              "    <tr style=\"text-align: right;\">\n",
              "      <th></th>\n",
              "      <th>price</th>\n",
              "      <th>reviews_per_month</th>\n",
              "      <th>number_of_reviews</th>\n",
              "      <th>number_of_reviews_ltm</th>\n",
              "      <th>availability_365</th>\n",
              "      <th>calculated_host_listings_count</th>\n",
              "      <th>minimum_nights</th>\n",
              "    </tr>\n",
              "  </thead>\n",
              "  <tbody>\n",
              "    <tr>\n",
              "      <th>count</th>\n",
              "      <td>5454.00</td>\n",
              "      <td>7985.00</td>\n",
              "      <td>8945.00</td>\n",
              "      <td>8945.00</td>\n",
              "      <td>8945.00</td>\n",
              "      <td>8945.00</td>\n",
              "      <td>8945.00</td>\n",
              "    </tr>\n",
              "    <tr>\n",
              "      <th>mean</th>\n",
              "      <td>256.57</td>\n",
              "      <td>1.00</td>\n",
              "      <td>45.02</td>\n",
              "      <td>9.96</td>\n",
              "      <td>71.21</td>\n",
              "      <td>1.73</td>\n",
              "      <td>4.20</td>\n",
              "    </tr>\n",
              "    <tr>\n",
              "      <th>std</th>\n",
              "      <td>244.98</td>\n",
              "      <td>1.83</td>\n",
              "      <td>107.30</td>\n",
              "      <td>24.33</td>\n",
              "      <td>103.85</td>\n",
              "      <td>2.46</td>\n",
              "      <td>19.79</td>\n",
              "    </tr>\n",
              "    <tr>\n",
              "      <th>min</th>\n",
              "      <td>10.00</td>\n",
              "      <td>0.01</td>\n",
              "      <td>0.00</td>\n",
              "      <td>0.00</td>\n",
              "      <td>0.00</td>\n",
              "      <td>1.00</td>\n",
              "      <td>1.00</td>\n",
              "    </tr>\n",
              "    <tr>\n",
              "      <th>25%</th>\n",
              "      <td>150.00</td>\n",
              "      <td>0.23</td>\n",
              "      <td>3.00</td>\n",
              "      <td>0.00</td>\n",
              "      <td>0.00</td>\n",
              "      <td>1.00</td>\n",
              "      <td>2.00</td>\n",
              "    </tr>\n",
              "    <tr>\n",
              "      <th>50%</th>\n",
              "      <td>213.00</td>\n",
              "      <td>0.45</td>\n",
              "      <td>9.00</td>\n",
              "      <td>3.00</td>\n",
              "      <td>13.00</td>\n",
              "      <td>1.00</td>\n",
              "      <td>3.00</td>\n",
              "    </tr>\n",
              "    <tr>\n",
              "      <th>75%</th>\n",
              "      <td>300.00</td>\n",
              "      <td>0.94</td>\n",
              "      <td>34.00</td>\n",
              "      <td>7.00</td>\n",
              "      <td>106.00</td>\n",
              "      <td>1.00</td>\n",
              "      <td>4.00</td>\n",
              "    </tr>\n",
              "    <tr>\n",
              "      <th>max</th>\n",
              "      <td>10000.00</td>\n",
              "      <td>57.84</td>\n",
              "      <td>2575.00</td>\n",
              "      <td>781.00</td>\n",
              "      <td>365.00</td>\n",
              "      <td>22.00</td>\n",
              "      <td>1001.00</td>\n",
              "    </tr>\n",
              "  </tbody>\n",
              "</table>\n",
              "</div>"
            ],
            "text/plain": [
              "          price  reviews_per_month  number_of_reviews  number_of_reviews_ltm  \\\n",
              "count   5454.00            7985.00            8945.00                8945.00   \n",
              "mean     256.57               1.00              45.02                   9.96   \n",
              "std      244.98               1.83             107.30                  24.33   \n",
              "min       10.00               0.01               0.00                   0.00   \n",
              "25%      150.00               0.23               3.00                   0.00   \n",
              "50%      213.00               0.45               9.00                   3.00   \n",
              "75%      300.00               0.94              34.00                   7.00   \n",
              "max    10000.00              57.84            2575.00                 781.00   \n",
              "\n",
              "       availability_365  calculated_host_listings_count  minimum_nights  \n",
              "count           8945.00                         8945.00         8945.00  \n",
              "mean              71.21                            1.73            4.20  \n",
              "std              103.85                            2.46           19.79  \n",
              "min                0.00                            1.00            1.00  \n",
              "25%                0.00                            1.00            2.00  \n",
              "50%               13.00                            1.00            3.00  \n",
              "75%              106.00                            1.00            4.00  \n",
              "max              365.00                           22.00         1001.00  "
            ]
          },
          "execution_count": 92,
          "metadata": {},
          "output_type": "execute_result"
        }
      ],
      "source": [
        "df_clean[['price','reviews_per_month','number_of_reviews','number_of_reviews_ltm','availability_365','calculated_host_listings_count','minimum_nights']].describe().round(2)"
      ]
    },
    {
      "cell_type": "markdown",
      "metadata": {},
      "source": [
        "### Cleaning minimum_nights\n",
        "\n",
        "The data related to reviews seem plausible. Even the maximum number of reviews in the last 12 months being 781 can be true for a property that is trending, for example.\n",
        "However, the minimum nights has some clear outliers, with listings with a minimum nights of more than a year. "
      ]
    },
    {
      "cell_type": "code",
      "execution_count": 93,
      "metadata": {},
      "outputs": [
        {
          "data": {
            "image/png": "[encoded data removed]",
            "text/plain": [
              "<Figure size 1000x1000 with 1 Axes>"
            ]
          },
          "metadata": {},
          "output_type": "display_data"
        }
      ],
      "source": [
        "df_clean.minimum_nights.plot(kind='box',\n",
        "                             vert=False,\n",
        "                             figsize=(10,10));"
      ]
    },
    {
      "cell_type": "code",
      "execution_count": 94,
      "metadata": {},
      "outputs": [
        {
          "data": {
            "text/plain": [
              "id\n",
              "18816109               1001\n",
              "30140860                999\n",
              "7394725                 800\n",
              "19343174                444\n",
              "19183967                300\n",
              "1914964                 300\n",
              "1014251280696672206     190\n",
              "12577304                180\n",
              "929613629343842634      180\n",
              "Name: minimum_nights, dtype: int64"
            ]
          },
          "execution_count": 94,
          "metadata": {},
          "output_type": "execute_result"
        }
      ],
      "source": [
        "df_clean.minimum_nights.sort_values(ascending=False).iloc[0:9]"
      ]
    },
    {
      "cell_type": "code",
      "execution_count": 95,
      "metadata": {},
      "outputs": [
        {
          "data": {
            "text/plain": [
              "count    8276.000000\n",
              "mean        2.646689\n",
              "std         1.220218\n",
              "min         1.000000\n",
              "25%         2.000000\n",
              "50%         3.000000\n",
              "75%         3.000000\n",
              "max         6.000000\n",
              "Name: minimum_nights, dtype: float64"
            ]
          },
          "execution_count": 95,
          "metadata": {},
          "output_type": "execute_result"
        }
      ],
      "source": [
        "min_nights_q3 = df_clean.minimum_nights.quantile(.75)\n",
        "min_nights_iqr = df_clean.minimum_nights.quantile(.75) - df_clean.minimum_nights.quantile(.25)\n",
        "\n",
        "df_clean = df_clean[df_clean['minimum_nights'] < (min_nights_q3+min_nights_iqr*1.5)]\n",
        "df_clean.minimum_nights.describe()"
      ]
    },
    {
      "cell_type": "code",
      "execution_count": 96,
      "metadata": {},
      "outputs": [
        {
          "data": {
            "image/png": "[encoded data removed]",
            "text/plain": [
              "<Figure size 1000x1000 with 1 Axes>"
            ]
          },
          "metadata": {},
          "output_type": "display_data"
        }
      ],
      "source": [
        "df_clean.minimum_nights.plot(kind='box',\n",
        "                             vert=False,\n",
        "                             figsize=(10,10));"
      ]
    },
    {
      "cell_type": "markdown",
      "metadata": {},
      "source": [
        "### Cleaning price data\n",
        "\n",
        "After checking the listings on [Airbnb](https://www.airbnb.com/rooms/2474754?adults=1&children=0&enable_m3_private_room=true&infants=0&location=Amsterdam%2C%20Netherlands&pets=0&search_mode=regular_search&check_in=2024-06-08&check_out=2024-06-13&source_impression_id=p3_1717843756_P3kwXwnWSOuO1hTi&previous_page_section_name=1001&federated_search_id=e370e06c-0227-42c1-8cd4-af81e87b4eef) we can find that the one with a $10.000,00 per night rate seems like a standard apartment, albeit in a good location. No reviewers said anything about the price. \n",
        "\n",
        "My hypothesis is that the host has changed the price to dissuade people from booking, instead of removing the listing from Airbnb. I believe we can safely remove this listing.\n",
        "We can also remove the second highest price because they are clear outliers. Let's see the effect of these outliers on the mean. "
      ]
    },
    {
      "cell_type": "code",
      "execution_count": 97,
      "metadata": {},
      "outputs": [
        {
          "data": {
            "text/plain": [
              "<Axes: xlabel='price'>"
            ]
          },
          "execution_count": 97,
          "metadata": {},
          "output_type": "execute_result"
        },
        {
          "data": {
            "image/png": "[encoded data removed]",
            "text/plain": [
              "<Figure size 1000x1000 with 1 Axes>"
            ]
          },
          "metadata": {},
          "output_type": "display_data"
        }
      ],
      "source": [
        "plt.figure(figsize=(10,10))\n",
        "sns.boxplot(data=df_clean,x='price')"
      ]
    },
    {
      "cell_type": "code",
      "execution_count": 98,
      "metadata": {},
      "outputs": [
        {
          "data": {
            "text/plain": [
              "id\n",
              "2474754               10000.0\n",
              "897037429506065313     8014.0\n",
              "612289973482163299     2591.0\n",
              "643315499225242586     2561.0\n",
              "15251558               2500.0\n",
              "830497096365305089     2430.0\n",
              "19939329               2000.0\n",
              "721526610086726373     1995.0\n",
              "53061883               1950.0\n",
              "Name: price, dtype: float64"
            ]
          },
          "execution_count": 98,
          "metadata": {},
          "output_type": "execute_result"
        }
      ],
      "source": [
        "# top 10 most expensive listings in Amsterdam\n",
        "df_clean.price.sort_values(ascending=False).iloc[0:9]"
      ]
    },
    {
      "cell_type": "code",
      "execution_count": 99,
      "metadata": {},
      "outputs": [
        {
          "data": {
            "text/plain": [
              "count    5039.000000\n",
              "mean      253.424886\n",
              "std       176.817116\n",
              "min        10.000000\n",
              "25%       150.000000\n",
              "50%       214.000000\n",
              "75%       300.000000\n",
              "max      2591.000000\n",
              "Name: price, dtype: float64"
            ]
          },
          "execution_count": 99,
          "metadata": {},
          "output_type": "execute_result"
        }
      ],
      "source": [
        "# filtering dataset\n",
        "df_clean = df_clean[df_clean['price'] < 8000]\n",
        "df_clean.price.describe()"
      ]
    },
    {
      "cell_type": "code",
      "execution_count": 100,
      "metadata": {},
      "outputs": [
        {
          "data": {
            "text/html": [
              "<div>\n",
              "<style scoped>\n",
              "    .dataframe tbody tr th:only-of-type {\n",
              "        vertical-align: middle;\n",
              "    }\n",
              "\n",
              "    .dataframe tbody tr th {\n",
              "        vertical-align: top;\n",
              "    }\n",
              "\n",
              "    .dataframe thead th {\n",
              "        text-align: right;\n",
              "    }\n",
              "</style>\n",
              "<table border=\"1\" class=\"dataframe\">\n",
              "  <thead>\n",
              "    <tr style=\"text-align: right;\">\n",
              "      <th></th>\n",
              "      <th>price</th>\n",
              "      <th>reviews_per_month</th>\n",
              "      <th>number_of_reviews</th>\n",
              "      <th>number_of_reviews_ltm</th>\n",
              "      <th>availability_365</th>\n",
              "      <th>calculated_host_listings_count</th>\n",
              "      <th>minimum_nights</th>\n",
              "    </tr>\n",
              "  </thead>\n",
              "  <tbody>\n",
              "    <tr>\n",
              "      <th>count</th>\n",
              "      <td>5039.00</td>\n",
              "      <td>4492.00</td>\n",
              "      <td>5039.00</td>\n",
              "      <td>5039.00</td>\n",
              "      <td>5039.00</td>\n",
              "      <td>5039.00</td>\n",
              "      <td>5039.00</td>\n",
              "    </tr>\n",
              "    <tr>\n",
              "      <th>mean</th>\n",
              "      <td>253.42</td>\n",
              "      <td>1.41</td>\n",
              "      <td>64.34</td>\n",
              "      <td>15.23</td>\n",
              "      <td>106.56</td>\n",
              "      <td>1.87</td>\n",
              "      <td>2.54</td>\n",
              "    </tr>\n",
              "    <tr>\n",
              "      <th>std</th>\n",
              "      <td>176.82</td>\n",
              "      <td>2.30</td>\n",
              "      <td>134.76</td>\n",
              "      <td>30.80</td>\n",
              "      <td>109.47</td>\n",
              "      <td>2.62</td>\n",
              "      <td>1.21</td>\n",
              "    </tr>\n",
              "    <tr>\n",
              "      <th>min</th>\n",
              "      <td>10.00</td>\n",
              "      <td>0.01</td>\n",
              "      <td>0.00</td>\n",
              "      <td>0.00</td>\n",
              "      <td>0.00</td>\n",
              "      <td>1.00</td>\n",
              "      <td>1.00</td>\n",
              "    </tr>\n",
              "    <tr>\n",
              "      <th>25%</th>\n",
              "      <td>150.00</td>\n",
              "      <td>0.35</td>\n",
              "      <td>3.00</td>\n",
              "      <td>1.00</td>\n",
              "      <td>15.00</td>\n",
              "      <td>1.00</td>\n",
              "      <td>2.00</td>\n",
              "    </tr>\n",
              "    <tr>\n",
              "      <th>50%</th>\n",
              "      <td>214.00</td>\n",
              "      <td>0.64</td>\n",
              "      <td>11.00</td>\n",
              "      <td>5.00</td>\n",
              "      <td>63.00</td>\n",
              "      <td>1.00</td>\n",
              "      <td>2.00</td>\n",
              "    </tr>\n",
              "    <tr>\n",
              "      <th>75%</th>\n",
              "      <td>300.00</td>\n",
              "      <td>1.65</td>\n",
              "      <td>58.00</td>\n",
              "      <td>13.00</td>\n",
              "      <td>181.50</td>\n",
              "      <td>1.00</td>\n",
              "      <td>3.00</td>\n",
              "    </tr>\n",
              "    <tr>\n",
              "      <th>max</th>\n",
              "      <td>2591.00</td>\n",
              "      <td>57.84</td>\n",
              "      <td>2575.00</td>\n",
              "      <td>781.00</td>\n",
              "      <td>365.00</td>\n",
              "      <td>22.00</td>\n",
              "      <td>6.00</td>\n",
              "    </tr>\n",
              "  </tbody>\n",
              "</table>\n",
              "</div>"
            ],
            "text/plain": [
              "         price  reviews_per_month  number_of_reviews  number_of_reviews_ltm  \\\n",
              "count  5039.00            4492.00            5039.00                5039.00   \n",
              "mean    253.42               1.41              64.34                  15.23   \n",
              "std     176.82               2.30             134.76                  30.80   \n",
              "min      10.00               0.01               0.00                   0.00   \n",
              "25%     150.00               0.35               3.00                   1.00   \n",
              "50%     214.00               0.64              11.00                   5.00   \n",
              "75%     300.00               1.65              58.00                  13.00   \n",
              "max    2591.00              57.84            2575.00                 781.00   \n",
              "\n",
              "       availability_365  calculated_host_listings_count  minimum_nights  \n",
              "count           5039.00                         5039.00         5039.00  \n",
              "mean             106.56                            1.87            2.54  \n",
              "std              109.47                            2.62            1.21  \n",
              "min                0.00                            1.00            1.00  \n",
              "25%               15.00                            1.00            2.00  \n",
              "50%               63.00                            1.00            2.00  \n",
              "75%              181.50                            1.00            3.00  \n",
              "max              365.00                           22.00            6.00  "
            ]
          },
          "execution_count": 100,
          "metadata": {},
          "output_type": "execute_result"
        }
      ],
      "source": [
        "df_clean[['price','reviews_per_month','number_of_reviews','number_of_reviews_ltm','availability_365','calculated_host_listings_count','minimum_nights']].describe().round(2)"
      ]
    },
    {
      "cell_type": "code",
      "execution_count": 101,
      "metadata": {},
      "outputs": [
        {
          "data": {
            "text/plain": [
              "<Axes: xlabel='price'>"
            ]
          },
          "execution_count": 101,
          "metadata": {},
          "output_type": "execute_result"
        },
        {
          "data": {
            "image/png": "[encoded data removed]",
            "text/plain": [
              "<Figure size 1000x1000 with 1 Axes>"
            ]
          },
          "metadata": {},
          "output_type": "display_data"
        }
      ],
      "source": [
        "plt.figure(figsize=(10,10))\n",
        "sns.boxplot(data=df_clean,x='price')"
      ]
    },
    {
      "cell_type": "code",
      "execution_count": 102,
      "metadata": {},
      "outputs": [
        {
          "data": {
            "text/plain": [
              "last_review                       547\n",
              "reviews_per_month                 547\n",
              "name                                0\n",
              "host_id                             0\n",
              "host_name                           0\n",
              "neighbourhood                       0\n",
              "latitude                            0\n",
              "longitude                           0\n",
              "room_type                           0\n",
              "price                               0\n",
              "minimum_nights                      0\n",
              "number_of_reviews                   0\n",
              "calculated_host_listings_count      0\n",
              "availability_365                    0\n",
              "number_of_reviews_ltm               0\n",
              "license                             0\n",
              "dtype: int64"
            ]
          },
          "execution_count": 102,
          "metadata": {},
          "output_type": "execute_result"
        }
      ],
      "source": [
        "df_clean.isnull().sum().sort_values(ascending=False)"
      ]
    },
    {
      "cell_type": "code",
      "execution_count": 103,
      "metadata": {},
      "outputs": [
        {
          "data": {
            "text/plain": [
              "name                              0\n",
              "host_id                           0\n",
              "host_name                         0\n",
              "neighbourhood                     0\n",
              "latitude                          0\n",
              "longitude                         0\n",
              "room_type                         0\n",
              "price                             0\n",
              "minimum_nights                    0\n",
              "number_of_reviews                 0\n",
              "last_review                       0\n",
              "reviews_per_month                 0\n",
              "calculated_host_listings_count    0\n",
              "availability_365                  0\n",
              "number_of_reviews_ltm             0\n",
              "license                           0\n",
              "dtype: int64"
            ]
          },
          "execution_count": 103,
          "metadata": {},
          "output_type": "execute_result"
        }
      ],
      "source": [
        "df_clean = df_clean.dropna(subset=['last_review','reviews_per_month'],axis='index')\n",
        "df_clean.isnull().sum().sort_values(ascending=False)"
      ]
    },
    {
      "cell_type": "markdown",
      "metadata": {},
      "source": [
        "We successfully removed the outliers because: \n",
        "\n",
        "* Removing the listings with *minimum_nights* that were calculated as outliers didn't affect the dataset significantly. Less than 10% of rows were removed and the mean and median remained 3 days.\n",
        "* The standard deviation for *price* went down by around 30%. \n",
        "* Median for *price* and *minimum_nights* is still the same."
      ]
    },
    {
      "cell_type": "markdown",
      "metadata": {
        "id": "iHXvvHIxaoNc"
      },
      "source": [
        "### **Q3. Qual o tipo de distribuição das variáveis?**"
      ]
    },
    {
      "cell_type": "code",
      "execution_count": 104,
      "metadata": {
        "id": "q2wWSfeRbmBo"
      },
      "outputs": [
        {
          "data": {
            "image/png": "[encoded data removed]",
            "text/plain": [
              "<Figure size 1000x1000 with 9 Axes>"
            ]
          },
          "metadata": {},
          "output_type": "display_data"
        }
      ],
      "source": [
        "# plotar o histograma das variáveis numéricas\n",
        "df_clean.hist(column=['price','reviews_per_month','number_of_reviews','number_of_reviews_ltm','availability_365','calculated_host_listings_count','minimum_nights'], bins=10, figsize=(10,10), grid=False);"
      ]
    },
    {
      "cell_type": "markdown",
      "metadata": {
        "id": "7x4aw1j5wNmn"
      },
      "source": [
        "### **Q4. Qual a média dos preços de aluguel?**"
      ]
    },
    {
      "cell_type": "code",
      "execution_count": 105,
      "metadata": {
        "id": "ff-8gUahLk-C"
      },
      "outputs": [
        {
          "name": "stdout",
          "output_type": "stream",
          "text": [
            "The average listing price is: $247.31\n"
          ]
        }
      ],
      "source": [
        "# checking average listing price\n",
        "avg_price = df_clean.price.mean().round(2)\n",
        "print(f\"The average listing price is: ${avg_price}\")"
      ]
    },
    {
      "cell_type": "markdown",
      "metadata": {
        "id": "IXn2oIo5qx-w"
      },
      "source": [
        "### **Q4. Qual a correlação existente entre as variáveis**"
      ]
    },
    {
      "cell_type": "code",
      "execution_count": 106,
      "metadata": {
        "id": "x2ayzBajqxyd"
      },
      "outputs": [
        {
          "data": {
            "text/html": [
              "<div>\n",
              "<style scoped>\n",
              "    .dataframe tbody tr th:only-of-type {\n",
              "        vertical-align: middle;\n",
              "    }\n",
              "\n",
              "    .dataframe tbody tr th {\n",
              "        vertical-align: top;\n",
              "    }\n",
              "\n",
              "    .dataframe thead th {\n",
              "        text-align: right;\n",
              "    }\n",
              "</style>\n",
              "<table border=\"1\" class=\"dataframe\">\n",
              "  <thead>\n",
              "    <tr style=\"text-align: right;\">\n",
              "      <th></th>\n",
              "      <th>price</th>\n",
              "      <th>reviews_per_month</th>\n",
              "      <th>number_of_reviews</th>\n",
              "      <th>number_of_reviews_ltm</th>\n",
              "      <th>availability_365</th>\n",
              "      <th>calculated_host_listings_count</th>\n",
              "      <th>minimum_nights</th>\n",
              "    </tr>\n",
              "  </thead>\n",
              "  <tbody>\n",
              "    <tr>\n",
              "      <th>price</th>\n",
              "      <td>1.000000</td>\n",
              "      <td>-0.233552</td>\n",
              "      <td>-0.252447</td>\n",
              "      <td>-0.230278</td>\n",
              "      <td>0.105035</td>\n",
              "      <td>-0.092200</td>\n",
              "      <td>0.119690</td>\n",
              "    </tr>\n",
              "    <tr>\n",
              "      <th>reviews_per_month</th>\n",
              "      <td>-0.233552</td>\n",
              "      <td>1.000000</td>\n",
              "      <td>0.752468</td>\n",
              "      <td>0.906374</td>\n",
              "      <td>0.021429</td>\n",
              "      <td>0.116707</td>\n",
              "      <td>-0.255390</td>\n",
              "    </tr>\n",
              "    <tr>\n",
              "      <th>number_of_reviews</th>\n",
              "      <td>-0.252447</td>\n",
              "      <td>0.752468</td>\n",
              "      <td>1.000000</td>\n",
              "      <td>0.811057</td>\n",
              "      <td>-0.005253</td>\n",
              "      <td>0.040485</td>\n",
              "      <td>-0.198146</td>\n",
              "    </tr>\n",
              "    <tr>\n",
              "      <th>number_of_reviews_ltm</th>\n",
              "      <td>-0.230278</td>\n",
              "      <td>0.906374</td>\n",
              "      <td>0.811057</td>\n",
              "      <td>1.000000</td>\n",
              "      <td>0.005700</td>\n",
              "      <td>0.084977</td>\n",
              "      <td>-0.231277</td>\n",
              "    </tr>\n",
              "    <tr>\n",
              "      <th>availability_365</th>\n",
              "      <td>0.105035</td>\n",
              "      <td>0.021429</td>\n",
              "      <td>-0.005253</td>\n",
              "      <td>0.005700</td>\n",
              "      <td>1.000000</td>\n",
              "      <td>0.246407</td>\n",
              "      <td>-0.137285</td>\n",
              "    </tr>\n",
              "    <tr>\n",
              "      <th>calculated_host_listings_count</th>\n",
              "      <td>-0.092200</td>\n",
              "      <td>0.116707</td>\n",
              "      <td>0.040485</td>\n",
              "      <td>0.084977</td>\n",
              "      <td>0.246407</td>\n",
              "      <td>1.000000</td>\n",
              "      <td>-0.261319</td>\n",
              "    </tr>\n",
              "    <tr>\n",
              "      <th>minimum_nights</th>\n",
              "      <td>0.119690</td>\n",
              "      <td>-0.255390</td>\n",
              "      <td>-0.198146</td>\n",
              "      <td>-0.231277</td>\n",
              "      <td>-0.137285</td>\n",
              "      <td>-0.261319</td>\n",
              "      <td>1.000000</td>\n",
              "    </tr>\n",
              "  </tbody>\n",
              "</table>\n",
              "</div>"
            ],
            "text/plain": [
              "                                   price  reviews_per_month  \\\n",
              "price                           1.000000          -0.233552   \n",
              "reviews_per_month              -0.233552           1.000000   \n",
              "number_of_reviews              -0.252447           0.752468   \n",
              "number_of_reviews_ltm          -0.230278           0.906374   \n",
              "availability_365                0.105035           0.021429   \n",
              "calculated_host_listings_count -0.092200           0.116707   \n",
              "minimum_nights                  0.119690          -0.255390   \n",
              "\n",
              "                                number_of_reviews  number_of_reviews_ltm  \\\n",
              "price                                   -0.252447              -0.230278   \n",
              "reviews_per_month                        0.752468               0.906374   \n",
              "number_of_reviews                        1.000000               0.811057   \n",
              "number_of_reviews_ltm                    0.811057               1.000000   \n",
              "availability_365                        -0.005253               0.005700   \n",
              "calculated_host_listings_count           0.040485               0.084977   \n",
              "minimum_nights                          -0.198146              -0.231277   \n",
              "\n",
              "                                availability_365  \\\n",
              "price                                   0.105035   \n",
              "reviews_per_month                       0.021429   \n",
              "number_of_reviews                      -0.005253   \n",
              "number_of_reviews_ltm                   0.005700   \n",
              "availability_365                        1.000000   \n",
              "calculated_host_listings_count          0.246407   \n",
              "minimum_nights                         -0.137285   \n",
              "\n",
              "                                calculated_host_listings_count  minimum_nights  \n",
              "price                                                -0.092200        0.119690  \n",
              "reviews_per_month                                     0.116707       -0.255390  \n",
              "number_of_reviews                                     0.040485       -0.198146  \n",
              "number_of_reviews_ltm                                 0.084977       -0.231277  \n",
              "availability_365                                      0.246407       -0.137285  \n",
              "calculated_host_listings_count                        1.000000       -0.261319  \n",
              "minimum_nights                                       -0.261319        1.000000  "
            ]
          },
          "metadata": {},
          "output_type": "display_data"
        }
      ],
      "source": [
        "# criar uma matriz de correlação\n",
        "correlation = df_clean[['price','reviews_per_month','number_of_reviews','number_of_reviews_ltm','availability_365','calculated_host_listings_count','minimum_nights']].corr()\n",
        "# mostrar a matriz de correlação\n",
        "display(correlation)"
      ]
    },
    {
      "cell_type": "code",
      "execution_count": 130,
      "metadata": {
        "id": "91UujDr6ueqE"
      },
      "outputs": [
        {
          "data": {
            "image/png": "[encoded data removed]",
            "text/plain": [
              "<Figure size 1000x1000 with 2 Axes>"
            ]
          },
          "metadata": {},
          "output_type": "display_data"
        }
      ],
      "source": [
        "# plotar um heatmap a partir das correlações\n",
        "plt.figure(figsize=(10,10))\n",
        "sns.heatmap(correlation,cmap='RdBu',fmt='.2f',square=True,linecolor='white',linewidths=0.5,annot=True);"
      ]
    },
    {
      "cell_type": "markdown",
      "metadata": {
        "id": "7b6RMWpuHKN-"
      },
      "source": [
        "### **Q5. Qual o tipo de imóvel mais alugado no Airbnb?**"
      ]
    },
    {
      "cell_type": "code",
      "execution_count": 108,
      "metadata": {
        "id": "ueLPNWvPHgfB"
      },
      "outputs": [],
      "source": [
        "# mostrar a quantidade de cada tipo de imóvel disponível\n"
      ]
    },
    {
      "cell_type": "code",
      "execution_count": 109,
      "metadata": {
        "id": "EvwoO-XAHhIm"
      },
      "outputs": [],
      "source": [
        "# mostrar a porcentagem de cada tipo de imóvel disponível\n"
      ]
    },
    {
      "cell_type": "markdown",
      "metadata": {
        "id": "MFa5NbnLJMcd"
      },
      "source": [
        "### **Q6. Qual a localidade mais cara do dataset?**\n",
        "\n"
      ]
    },
    {
      "cell_type": "code",
      "execution_count": 110,
      "metadata": {
        "id": "MD_xa143JZpi"
      },
      "outputs": [],
      "source": [
        "# ver preços por bairros, na média\n"
      ]
    },
    {
      "cell_type": "code",
      "execution_count": 111,
      "metadata": {
        "id": "UxVJqJ_3W59I"
      },
      "outputs": [],
      "source": [
        "# plotar os imóveis pela latitude-longitude\n"
      ]
    },
    {
      "cell_type": "markdown",
      "metadata": {
        "id": "vTneAMRUYvr1"
      },
      "source": [
        "### **Q7. Qual é a média do mínimo de noites para aluguel (minimum_nights)?**"
      ]
    },
    {
      "cell_type": "code",
      "execution_count": 112,
      "metadata": {
        "id": "_VzNhrEgY82N"
      },
      "outputs": [],
      "source": [
        "# ver a média da coluna `minimum_nights``"
      ]
    },
    {
      "cell_type": "markdown",
      "metadata": {
        "id": "GkvAg623RjoR"
      },
      "source": [
        "## Conclusões\n"
      ]
    },
    {
      "cell_type": "markdown",
      "metadata": {
        "id": "rbZ3Hsy9Ypw8"
      },
      "source": []
    }
  ],
  "metadata": {
    "colab": {
      "provenance": []
    },
    "kernelspec": {
      "display_name": "Python 3",
      "name": "python3"
    },
    "language_info": {
      "codemirror_mode": {
        "name": "ipython",
        "version": 3
      },
      "file_extension": ".py",
      "mimetype": "text/x-python",
      "name": "python",
      "nbconvert_exporter": "python",
      "pygments_lexer": "ipython3",
      "version": "3.11.7"
    }
  },
  "nbformat": 4,
  "nbformat_minor": 0
}
